{
  "nbformat": 4,
  "nbformat_minor": 0,
  "metadata": {
    "colab": {
      "name": "MatthewSmith_HW3.ipynb",
      "provenance": [],
      "collapsed_sections": [],
      "authorship_tag": "ABX9TyPG/VIfcbKdeW9cLFCIYelo",
      "include_colab_link": true
    },
    "kernelspec": {
      "name": "python3",
      "display_name": "Python 3"
    }
  },
  "cells": [
    {
      "cell_type": "markdown",
      "metadata": {
        "id": "view-in-github",
        "colab_type": "text"
      },
      "source": [
        "<a href=\"https://colab.research.google.com/github/MatthewSmith22/BigDataTechnologyHW/blob/master/MatthewSmith_HW3.ipynb\" target=\"_parent\"><img src=\"https://colab.research.google.com/assets/colab-badge.svg\" alt=\"Open In Colab\"/></a>"
      ]
    },
    {
      "cell_type": "code",
      "metadata": {
        "id": "nTkBxEPSP-dA",
        "colab_type": "code",
        "colab": {}
      },
      "source": [
        "import numpy as np\n",
        "import pandas as pd\n",
        "from sklearn.model_selection import train_test_split\n",
        "from sklearn.preprocessing import StandardScaler\n",
        "from tensorflow import keras"
      ],
      "execution_count": 0,
      "outputs": []
    },
    {
      "cell_type": "markdown",
      "metadata": {
        "id": "pTYAuXr8QHC5",
        "colab_type": "text"
      },
      "source": [
        "# **Problem 1**\n",
        "In the \"Classifying movie reviews\" example explained in Lecture 8, do the following experiments to see the new results (accuracy, loss, and training time) and summarize your observations."
      ]
    },
    {
      "cell_type": "code",
      "metadata": {
        "id": "TQj8sblsd7q9",
        "colab_type": "code",
        "colab": {}
      },
      "source": [
        "from tensorflow.keras.datasets import imdb\n",
        "\n",
        "(train_data, train_labels), (test_data, test_labels) = imdb.load_data(num_words=10000)"
      ],
      "execution_count": 0,
      "outputs": []
    },
    {
      "cell_type": "code",
      "metadata": {
        "id": "_2nbtvnYeFiU",
        "colab_type": "code",
        "outputId": "869405cc-bb25-4a14-e8c0-2e434759bbdc",
        "colab": {
          "base_uri": "https://localhost:8080/",
          "height": 34
        }
      },
      "source": [
        "train_data[0][:10]"
      ],
      "execution_count": 0,
      "outputs": [
        {
          "output_type": "execute_result",
          "data": {
            "text/plain": [
              "[1, 14, 22, 16, 43, 530, 973, 1622, 1385, 65]"
            ]
          },
          "metadata": {
            "tags": []
          },
          "execution_count": 4
        }
      ]
    },
    {
      "cell_type": "code",
      "metadata": {
        "id": "UrC3iylEeG-9",
        "colab_type": "code",
        "colab": {}
      },
      "source": [
        "def vectorize_sequences(sequences, dimension=10000):\n",
        "    # Create an all-zero matrix of shape (len(sequences), dimension)\n",
        "    results = np.zeros((len(sequences), dimension))\n",
        "    for i, sequence in enumerate(sequences):\n",
        "        results[i, sequence] = 1.  # set specific indices of results[i] to 1s\n",
        "    return results\n",
        "\n",
        "# Our vectorized training data\n",
        "x_train = vectorize_sequences(train_data)\n",
        "# Our vectorized test data\n",
        "x_test = vectorize_sequences(test_data)"
      ],
      "execution_count": 0,
      "outputs": []
    },
    {
      "cell_type": "code",
      "metadata": {
        "id": "CWX4QeewehQG",
        "colab_type": "code",
        "colab": {}
      },
      "source": [
        "y_train = np.asarray(train_labels).astype('float32')\n",
        "y_test = np.asarray(test_labels).astype('float32')"
      ],
      "execution_count": 0,
      "outputs": []
    },
    {
      "cell_type": "code",
      "metadata": {
        "id": "4x5obHdzgWhf",
        "colab_type": "code",
        "outputId": "9ce7f890-7329-4819-db64-e8ec5c6884b2",
        "colab": {
          "base_uri": "https://localhost:8080/",
          "height": 34
        }
      },
      "source": [
        "from tensorflow.keras import models\n",
        "from tensorflow.keras import layers\n",
        "\n",
        "model = models.Sequential()\n",
        "model.add(layers.Dense(16, activation='relu', input_shape=(10000,)))\n",
        "model.add(layers.Dense(16, activation='relu'))\n",
        "model.add(layers.Dense(1, activation='sigmoid'))\n",
        "\n",
        "model.compile(optimizer='rmsprop',\n",
        "              loss='binary_crossentropy',\n",
        "              metrics=['accuracy'])\n",
        "\n",
        "model.fit(x_train, y_train, epochs=4, batch_size=512, verbose = 0)\n",
        "results = model.evaluate(x_test, y_test)"
      ],
      "execution_count": 0,
      "outputs": [
        {
          "output_type": "stream",
          "text": [
            "782/782 [==============================] - 1s 2ms/step - loss: 0.3051 - accuracy: 0.8795\n"
          ],
          "name": "stdout"
        }
      ]
    },
    {
      "cell_type": "code",
      "metadata": {
        "id": "YojXKHW-gmwD",
        "colab_type": "code",
        "outputId": "d89ae670-9439-40f2-b1c3-647bd2608e76",
        "colab": {
          "base_uri": "https://localhost:8080/",
          "height": 34
        }
      },
      "source": [
        "results"
      ],
      "execution_count": 0,
      "outputs": [
        {
          "output_type": "execute_result",
          "data": {
            "text/plain": [
              "[0.305146187543869, 0.8794800043106079]"
            ]
          },
          "metadata": {
            "tags": []
          },
          "execution_count": 8
        }
      ]
    },
    {
      "cell_type": "markdown",
      "metadata": {
        "id": "Fke0ZS-sQzY6",
        "colab_type": "text"
      },
      "source": [
        "# Part 1 \n",
        "Try to use 1 or 3 hidden layers and see how it affects validation and test accuracy."
      ]
    },
    {
      "cell_type": "markdown",
      "metadata": {
        "id": "DdmBH5dTguPB",
        "colab_type": "text"
      },
      "source": [
        "One hidden layer:"
      ]
    },
    {
      "cell_type": "code",
      "metadata": {
        "id": "Yq2YYxrGQ-uW",
        "colab_type": "code",
        "outputId": "27be0f85-903a-4843-edb0-a2da974d1d99",
        "colab": {
          "base_uri": "https://localhost:8080/",
          "height": 34
        }
      },
      "source": [
        "model1 = models.Sequential()\n",
        "model1.add(layers.Dense(16, activation='relu', input_shape=(10000,)))\n",
        "model1.add(layers.Dense(1, activation='sigmoid'))\n",
        "\n",
        "model1.compile(optimizer='rmsprop',\n",
        "              loss='binary_crossentropy',\n",
        "              metrics=['accuracy'])\n",
        "\n",
        "model1.fit(x_train, y_train, epochs=4, batch_size=512, verbose = 0)\n",
        "results1 = model1.evaluate(x_test, y_test)"
      ],
      "execution_count": 0,
      "outputs": [
        {
          "output_type": "stream",
          "text": [
            "782/782 [==============================] - 1s 2ms/step - loss: 0.2807 - accuracy: 0.8871\n"
          ],
          "name": "stdout"
        }
      ]
    },
    {
      "cell_type": "markdown",
      "metadata": {
        "id": "favrXWBvhMk7",
        "colab_type": "text"
      },
      "source": [
        "After running the neural network with 1 hidden layer instead of 2, the accuracy slightly increased from 0.8795 to 0.8871, while the loss decreased from 0.3051 to 0.2807. The training time remained the same. It appears that going with 1 hidden layer is better than 2 hidden layers."
      ]
    },
    {
      "cell_type": "markdown",
      "metadata": {
        "id": "4BMzyqrOQ_AF",
        "colab_type": "text"
      },
      "source": [
        "# Part 2\n",
        "Try to use layers with more hidden units or less hidden units: 32 units or 64 units."
      ]
    },
    {
      "cell_type": "markdown",
      "metadata": {
        "id": "cOIz37iJlaQw",
        "colab_type": "text"
      },
      "source": [
        "32 hidden units:"
      ]
    },
    {
      "cell_type": "code",
      "metadata": {
        "id": "EPYKmhjsRSfk",
        "colab_type": "code",
        "outputId": "37604fc5-cf5e-4cf5-ebed-b9fa0b76765b",
        "colab": {
          "base_uri": "https://localhost:8080/",
          "height": 34
        }
      },
      "source": [
        "model32 = models.Sequential()\n",
        "model32.add(layers.Dense(32, activation='relu', input_shape=(10000,)))\n",
        "model32.add(layers.Dense(32, activation='relu'))\n",
        "model32.add(layers.Dense(1, activation='sigmoid'))\n",
        "\n",
        "model32.compile(optimizer='rmsprop',\n",
        "              loss='binary_crossentropy',\n",
        "              metrics=['accuracy'])\n",
        "\n",
        "model32.fit(x_train, y_train, epochs=4, batch_size=512, verbose = 0)\n",
        "results32 = model32.evaluate(x_test, y_test)"
      ],
      "execution_count": 0,
      "outputs": [
        {
          "output_type": "stream",
          "text": [
            "782/782 [==============================] - 1s 2ms/step - loss: 0.3343 - accuracy: 0.8728\n"
          ],
          "name": "stdout"
        }
      ]
    },
    {
      "cell_type": "markdown",
      "metadata": {
        "id": "FJdbuWBSlCye",
        "colab_type": "text"
      },
      "source": [
        "After running a neural network with 32 hidden layers instead of 16, the accuracy decreased from 0.8795 to 0.8728, while the loss increased from 0.3051 to 0.3343. The training time remainded the same. Here it appears better to stick with 16 hidden units as opposed to 32 hidden units."
      ]
    },
    {
      "cell_type": "markdown",
      "metadata": {
        "id": "99ruyeujRTqn",
        "colab_type": "text"
      },
      "source": [
        "# Part 3\n",
        "Try to use the *mse* loss funtion instead of *binary_crossentropy*."
      ]
    },
    {
      "cell_type": "code",
      "metadata": {
        "id": "N0t3GDFlRffB",
        "colab_type": "code",
        "outputId": "6e68f751-1ac6-4d5e-c2e0-0ad36e30a8e2",
        "colab": {
          "base_uri": "https://localhost:8080/",
          "height": 34
        }
      },
      "source": [
        "model_mse = models.Sequential()\n",
        "model_mse.add(layers.Dense(16, activation='relu', input_shape=(10000,)))\n",
        "model_mse.add(layers.Dense(16, activation='relu'))\n",
        "model_mse.add(layers.Dense(1, activation='sigmoid'))\n",
        "\n",
        "model_mse.compile(optimizer='rmsprop',\n",
        "              loss='mse',\n",
        "              metrics=['accuracy'])\n",
        "\n",
        "model_mse.fit(x_train, y_train, epochs=4, batch_size=512, verbose = 0)\n",
        "results_mse = model_mse.evaluate(x_test, y_test)"
      ],
      "execution_count": 0,
      "outputs": [
        {
          "output_type": "stream",
          "text": [
            "782/782 [==============================] - 1s 2ms/step - loss: 0.0959 - accuracy: 0.8702\n"
          ],
          "name": "stdout"
        }
      ]
    },
    {
      "cell_type": "markdown",
      "metadata": {
        "id": "7h4bSmv3oNuw",
        "colab_type": "text"
      },
      "source": [
        "After running a neural network with the mse loss function instead of the binary_crossentropy, the accuracy decreased from 0.8795 to 0.8702, and the loss decreased from 0.3108 to 0.0882. The training time remained the same."
      ]
    },
    {
      "cell_type": "markdown",
      "metadata": {
        "id": "OipXJs3JRgIL",
        "colab_type": "text"
      },
      "source": [
        "# Part 4\n",
        "Try to use the *tanh* activation function (an activation that was popular in the early days of neural networks) instead of *relu*."
      ]
    },
    {
      "cell_type": "code",
      "metadata": {
        "id": "3R3hCvOnR2Th",
        "colab_type": "code",
        "outputId": "bf9649ee-d9c8-4419-ad69-051b6f403383",
        "colab": {
          "base_uri": "https://localhost:8080/",
          "height": 34
        }
      },
      "source": [
        "model_tanh = models.Sequential()\n",
        "model_tanh.add(layers.Dense(16, activation='tanh', input_shape=(10000,)))\n",
        "model_tanh.add(layers.Dense(16, activation='tanh'))\n",
        "model_tanh.add(layers.Dense(1, activation='sigmoid'))\n",
        "\n",
        "model_tanh.compile(optimizer='rmsprop',\n",
        "              loss='binary_crossentropy',\n",
        "              metrics=['accuracy'])\n",
        "\n",
        "model_tanh.fit(x_train, y_train, epochs=4, batch_size=512, verbose = 0)\n",
        "results_tanh = model_tanh.evaluate(x_test, y_test)"
      ],
      "execution_count": 0,
      "outputs": [
        {
          "output_type": "stream",
          "text": [
            "782/782 [==============================] - 1s 2ms/step - loss: 0.3289 - accuracy: 0.8757\n"
          ],
          "name": "stdout"
        }
      ]
    },
    {
      "cell_type": "markdown",
      "metadata": {
        "id": "nCv19eSJrybo",
        "colab_type": "text"
      },
      "source": [
        "After running a neural network with the tanh activation function, the accuracy decreased from 0.8795 to 0.8757, while the loss increased from 0.3051 to 0.3289. The training time remained the same. "
      ]
    },
    {
      "cell_type": "markdown",
      "metadata": {
        "id": "DZg0IcUYR37i",
        "colab_type": "text"
      },
      "source": [
        "# **Problem 2**\n",
        "Write Pyhon code in Colab using NumPy, Pandas, Scikit-Learn and Keras to complete the following tasks:"
      ]
    },
    {
      "cell_type": "markdown",
      "metadata": {
        "id": "Xaf8TDqvSLTq",
        "colab_type": "text"
      },
      "source": [
        "# Part 1\n",
        "Use Pandas to immport the following auto-mpg.data, drop the rows with unknown values (\"?\"), convert the \"Origin\" column into numeric one with one-hot encoding."
      ]
    },
    {
      "cell_type": "code",
      "metadata": {
        "id": "U_6_5cOW4mSm",
        "colab_type": "code",
        "colab": {}
      },
      "source": [
        "from tensorflow.keras import backend as K\n",
        "\n",
        "# Some memory clean-up\n",
        "K.clear_session()"
      ],
      "execution_count": 0,
      "outputs": []
    },
    {
      "cell_type": "code",
      "metadata": {
        "id": "_8p_N28YSlcW",
        "colab_type": "code",
        "colab": {}
      },
      "source": [
        "auto = pd.read_csv('http://archive.ics.uci.edu/ml/machine-learning-databases/auto-mpg/auto-mpg.data', sep= ' ', header = None,\n",
        "                   names = ['mpg', 'cylinders', 'displacement', 'horsepower', 'weight', 'acceleration', 'model_year', 'origin'],\n",
        "                   skipinitialspace = True, na_values = '?', comment = '\\t')"
      ],
      "execution_count": 0,
      "outputs": []
    },
    {
      "cell_type": "code",
      "metadata": {
        "id": "8nWZJrEBVtbb",
        "colab_type": "code",
        "outputId": "05295bd7-681d-4a28-f778-cdc8388c68df",
        "colab": {
          "base_uri": "https://localhost:8080/",
          "height": 204
        }
      },
      "source": [
        "auto.head()"
      ],
      "execution_count": 0,
      "outputs": [
        {
          "output_type": "execute_result",
          "data": {
            "text/html": [
              "<div>\n",
              "<style scoped>\n",
              "    .dataframe tbody tr th:only-of-type {\n",
              "        vertical-align: middle;\n",
              "    }\n",
              "\n",
              "    .dataframe tbody tr th {\n",
              "        vertical-align: top;\n",
              "    }\n",
              "\n",
              "    .dataframe thead th {\n",
              "        text-align: right;\n",
              "    }\n",
              "</style>\n",
              "<table border=\"1\" class=\"dataframe\">\n",
              "  <thead>\n",
              "    <tr style=\"text-align: right;\">\n",
              "      <th></th>\n",
              "      <th>mpg</th>\n",
              "      <th>cylinders</th>\n",
              "      <th>displacement</th>\n",
              "      <th>horsepower</th>\n",
              "      <th>weight</th>\n",
              "      <th>acceleration</th>\n",
              "      <th>model_year</th>\n",
              "      <th>origin</th>\n",
              "    </tr>\n",
              "  </thead>\n",
              "  <tbody>\n",
              "    <tr>\n",
              "      <th>0</th>\n",
              "      <td>18.0</td>\n",
              "      <td>8</td>\n",
              "      <td>307.0</td>\n",
              "      <td>130.0</td>\n",
              "      <td>3504.0</td>\n",
              "      <td>12.0</td>\n",
              "      <td>70</td>\n",
              "      <td>1</td>\n",
              "    </tr>\n",
              "    <tr>\n",
              "      <th>1</th>\n",
              "      <td>15.0</td>\n",
              "      <td>8</td>\n",
              "      <td>350.0</td>\n",
              "      <td>165.0</td>\n",
              "      <td>3693.0</td>\n",
              "      <td>11.5</td>\n",
              "      <td>70</td>\n",
              "      <td>1</td>\n",
              "    </tr>\n",
              "    <tr>\n",
              "      <th>2</th>\n",
              "      <td>18.0</td>\n",
              "      <td>8</td>\n",
              "      <td>318.0</td>\n",
              "      <td>150.0</td>\n",
              "      <td>3436.0</td>\n",
              "      <td>11.0</td>\n",
              "      <td>70</td>\n",
              "      <td>1</td>\n",
              "    </tr>\n",
              "    <tr>\n",
              "      <th>3</th>\n",
              "      <td>16.0</td>\n",
              "      <td>8</td>\n",
              "      <td>304.0</td>\n",
              "      <td>150.0</td>\n",
              "      <td>3433.0</td>\n",
              "      <td>12.0</td>\n",
              "      <td>70</td>\n",
              "      <td>1</td>\n",
              "    </tr>\n",
              "    <tr>\n",
              "      <th>4</th>\n",
              "      <td>17.0</td>\n",
              "      <td>8</td>\n",
              "      <td>302.0</td>\n",
              "      <td>140.0</td>\n",
              "      <td>3449.0</td>\n",
              "      <td>10.5</td>\n",
              "      <td>70</td>\n",
              "      <td>1</td>\n",
              "    </tr>\n",
              "  </tbody>\n",
              "</table>\n",
              "</div>"
            ],
            "text/plain": [
              "    mpg  cylinders  displacement  ...  acceleration  model_year  origin\n",
              "0  18.0          8         307.0  ...          12.0          70       1\n",
              "1  15.0          8         350.0  ...          11.5          70       1\n",
              "2  18.0          8         318.0  ...          11.0          70       1\n",
              "3  16.0          8         304.0  ...          12.0          70       1\n",
              "4  17.0          8         302.0  ...          10.5          70       1\n",
              "\n",
              "[5 rows x 8 columns]"
            ]
          },
          "metadata": {
            "tags": []
          },
          "execution_count": 14
        }
      ]
    },
    {
      "cell_type": "code",
      "metadata": {
        "id": "CvpZcvD4VzDB",
        "colab_type": "code",
        "outputId": "d08175f7-125f-4511-e7ee-dca33a3953b2",
        "colab": {
          "base_uri": "https://localhost:8080/",
          "height": 34
        }
      },
      "source": [
        "auto.shape"
      ],
      "execution_count": 0,
      "outputs": [
        {
          "output_type": "execute_result",
          "data": {
            "text/plain": [
              "(398, 8)"
            ]
          },
          "metadata": {
            "tags": []
          },
          "execution_count": 15
        }
      ]
    },
    {
      "cell_type": "code",
      "metadata": {
        "id": "OBh3BOClV5_G",
        "colab_type": "code",
        "outputId": "d9d83b8a-d3b9-4b39-fbd6-f76494a4ca73",
        "colab": {
          "base_uri": "https://localhost:8080/",
          "height": 170
        }
      },
      "source": [
        "auto.isnull().sum()"
      ],
      "execution_count": 0,
      "outputs": [
        {
          "output_type": "execute_result",
          "data": {
            "text/plain": [
              "mpg             0\n",
              "cylinders       0\n",
              "displacement    0\n",
              "horsepower      6\n",
              "weight          0\n",
              "acceleration    0\n",
              "model_year      0\n",
              "origin          0\n",
              "dtype: int64"
            ]
          },
          "metadata": {
            "tags": []
          },
          "execution_count": 16
        }
      ]
    },
    {
      "cell_type": "code",
      "metadata": {
        "id": "ufQ_-Y-yWBgY",
        "colab_type": "code",
        "colab": {}
      },
      "source": [
        "auto2 = auto.dropna()"
      ],
      "execution_count": 0,
      "outputs": []
    },
    {
      "cell_type": "code",
      "metadata": {
        "id": "doB7dF8eWu-Z",
        "colab_type": "code",
        "outputId": "b5d65fc1-e8bf-4668-a027-e0101ce31815",
        "colab": {
          "base_uri": "https://localhost:8080/",
          "height": 34
        }
      },
      "source": [
        "auto2.shape"
      ],
      "execution_count": 0,
      "outputs": [
        {
          "output_type": "execute_result",
          "data": {
            "text/plain": [
              "(392, 8)"
            ]
          },
          "metadata": {
            "tags": []
          },
          "execution_count": 18
        }
      ]
    },
    {
      "cell_type": "code",
      "metadata": {
        "id": "8VijdoAYXM1K",
        "colab_type": "code",
        "colab": {}
      },
      "source": [
        "auto_new = pd.get_dummies(auto2, columns=[\"origin\"])"
      ],
      "execution_count": 0,
      "outputs": []
    },
    {
      "cell_type": "code",
      "metadata": {
        "id": "dnnZu81IXWOB",
        "colab_type": "code",
        "outputId": "41bccda2-56ef-42bd-e25f-c89e142618d5",
        "colab": {
          "base_uri": "https://localhost:8080/",
          "height": 204
        }
      },
      "source": [
        "auto_new.head()"
      ],
      "execution_count": 0,
      "outputs": [
        {
          "output_type": "execute_result",
          "data": {
            "text/html": [
              "<div>\n",
              "<style scoped>\n",
              "    .dataframe tbody tr th:only-of-type {\n",
              "        vertical-align: middle;\n",
              "    }\n",
              "\n",
              "    .dataframe tbody tr th {\n",
              "        vertical-align: top;\n",
              "    }\n",
              "\n",
              "    .dataframe thead th {\n",
              "        text-align: right;\n",
              "    }\n",
              "</style>\n",
              "<table border=\"1\" class=\"dataframe\">\n",
              "  <thead>\n",
              "    <tr style=\"text-align: right;\">\n",
              "      <th></th>\n",
              "      <th>mpg</th>\n",
              "      <th>cylinders</th>\n",
              "      <th>displacement</th>\n",
              "      <th>horsepower</th>\n",
              "      <th>weight</th>\n",
              "      <th>acceleration</th>\n",
              "      <th>model_year</th>\n",
              "      <th>origin_1</th>\n",
              "      <th>origin_2</th>\n",
              "      <th>origin_3</th>\n",
              "    </tr>\n",
              "  </thead>\n",
              "  <tbody>\n",
              "    <tr>\n",
              "      <th>0</th>\n",
              "      <td>18.0</td>\n",
              "      <td>8</td>\n",
              "      <td>307.0</td>\n",
              "      <td>130.0</td>\n",
              "      <td>3504.0</td>\n",
              "      <td>12.0</td>\n",
              "      <td>70</td>\n",
              "      <td>1</td>\n",
              "      <td>0</td>\n",
              "      <td>0</td>\n",
              "    </tr>\n",
              "    <tr>\n",
              "      <th>1</th>\n",
              "      <td>15.0</td>\n",
              "      <td>8</td>\n",
              "      <td>350.0</td>\n",
              "      <td>165.0</td>\n",
              "      <td>3693.0</td>\n",
              "      <td>11.5</td>\n",
              "      <td>70</td>\n",
              "      <td>1</td>\n",
              "      <td>0</td>\n",
              "      <td>0</td>\n",
              "    </tr>\n",
              "    <tr>\n",
              "      <th>2</th>\n",
              "      <td>18.0</td>\n",
              "      <td>8</td>\n",
              "      <td>318.0</td>\n",
              "      <td>150.0</td>\n",
              "      <td>3436.0</td>\n",
              "      <td>11.0</td>\n",
              "      <td>70</td>\n",
              "      <td>1</td>\n",
              "      <td>0</td>\n",
              "      <td>0</td>\n",
              "    </tr>\n",
              "    <tr>\n",
              "      <th>3</th>\n",
              "      <td>16.0</td>\n",
              "      <td>8</td>\n",
              "      <td>304.0</td>\n",
              "      <td>150.0</td>\n",
              "      <td>3433.0</td>\n",
              "      <td>12.0</td>\n",
              "      <td>70</td>\n",
              "      <td>1</td>\n",
              "      <td>0</td>\n",
              "      <td>0</td>\n",
              "    </tr>\n",
              "    <tr>\n",
              "      <th>4</th>\n",
              "      <td>17.0</td>\n",
              "      <td>8</td>\n",
              "      <td>302.0</td>\n",
              "      <td>140.0</td>\n",
              "      <td>3449.0</td>\n",
              "      <td>10.5</td>\n",
              "      <td>70</td>\n",
              "      <td>1</td>\n",
              "      <td>0</td>\n",
              "      <td>0</td>\n",
              "    </tr>\n",
              "  </tbody>\n",
              "</table>\n",
              "</div>"
            ],
            "text/plain": [
              "    mpg  cylinders  displacement  ...  origin_1  origin_2  origin_3\n",
              "0  18.0          8         307.0  ...         1         0         0\n",
              "1  15.0          8         350.0  ...         1         0         0\n",
              "2  18.0          8         318.0  ...         1         0         0\n",
              "3  16.0          8         304.0  ...         1         0         0\n",
              "4  17.0          8         302.0  ...         1         0         0\n",
              "\n",
              "[5 rows x 10 columns]"
            ]
          },
          "metadata": {
            "tags": []
          },
          "execution_count": 20
        }
      ]
    },
    {
      "cell_type": "markdown",
      "metadata": {
        "id": "R_k3pd4LSmFL",
        "colab_type": "text"
      },
      "source": [
        "# Part 2\n",
        "Split the dataset into 80%-training and 20%-test and separate the fuel efficiency column (label) from other columns (features)."
      ]
    },
    {
      "cell_type": "code",
      "metadata": {
        "id": "-7v_zIc_S_uB",
        "colab_type": "code",
        "colab": {}
      },
      "source": [
        "X_col = auto_new.columns.drop('mpg')\n",
        "X = auto_new[X_col].values\n",
        "y = auto_new['mpg'].values\n",
        "X_train, X_test, y_train, y_test = train_test_split(X, y, random_state = 1, train_size = 0.8)"
      ],
      "execution_count": 0,
      "outputs": []
    },
    {
      "cell_type": "markdown",
      "metadata": {
        "id": "u67WlOjXTAPs",
        "colab_type": "text"
      },
      "source": [
        "# Part 3\n",
        "Check statistics of each feature column and normalize the feature columns so that their mean is zero and variance is one."
      ]
    },
    {
      "cell_type": "code",
      "metadata": {
        "id": "DxI08uWQTgL1",
        "colab_type": "code",
        "outputId": "9956e2d5-e073-45fd-8b71-c9ddceef7bb9",
        "colab": {
          "base_uri": "https://localhost:8080/",
          "height": 297
        }
      },
      "source": [
        "auto_new.describe()"
      ],
      "execution_count": 0,
      "outputs": [
        {
          "output_type": "execute_result",
          "data": {
            "text/html": [
              "<div>\n",
              "<style scoped>\n",
              "    .dataframe tbody tr th:only-of-type {\n",
              "        vertical-align: middle;\n",
              "    }\n",
              "\n",
              "    .dataframe tbody tr th {\n",
              "        vertical-align: top;\n",
              "    }\n",
              "\n",
              "    .dataframe thead th {\n",
              "        text-align: right;\n",
              "    }\n",
              "</style>\n",
              "<table border=\"1\" class=\"dataframe\">\n",
              "  <thead>\n",
              "    <tr style=\"text-align: right;\">\n",
              "      <th></th>\n",
              "      <th>mpg</th>\n",
              "      <th>cylinders</th>\n",
              "      <th>displacement</th>\n",
              "      <th>horsepower</th>\n",
              "      <th>weight</th>\n",
              "      <th>acceleration</th>\n",
              "      <th>model_year</th>\n",
              "      <th>origin_1</th>\n",
              "      <th>origin_2</th>\n",
              "      <th>origin_3</th>\n",
              "    </tr>\n",
              "  </thead>\n",
              "  <tbody>\n",
              "    <tr>\n",
              "      <th>count</th>\n",
              "      <td>392.000000</td>\n",
              "      <td>392.000000</td>\n",
              "      <td>392.000000</td>\n",
              "      <td>392.000000</td>\n",
              "      <td>392.000000</td>\n",
              "      <td>392.000000</td>\n",
              "      <td>392.000000</td>\n",
              "      <td>392.000000</td>\n",
              "      <td>392.000000</td>\n",
              "      <td>392.000000</td>\n",
              "    </tr>\n",
              "    <tr>\n",
              "      <th>mean</th>\n",
              "      <td>23.445918</td>\n",
              "      <td>5.471939</td>\n",
              "      <td>194.411990</td>\n",
              "      <td>104.469388</td>\n",
              "      <td>2977.584184</td>\n",
              "      <td>15.541327</td>\n",
              "      <td>75.979592</td>\n",
              "      <td>0.625000</td>\n",
              "      <td>0.173469</td>\n",
              "      <td>0.201531</td>\n",
              "    </tr>\n",
              "    <tr>\n",
              "      <th>std</th>\n",
              "      <td>7.805007</td>\n",
              "      <td>1.705783</td>\n",
              "      <td>104.644004</td>\n",
              "      <td>38.491160</td>\n",
              "      <td>849.402560</td>\n",
              "      <td>2.758864</td>\n",
              "      <td>3.683737</td>\n",
              "      <td>0.484742</td>\n",
              "      <td>0.379136</td>\n",
              "      <td>0.401656</td>\n",
              "    </tr>\n",
              "    <tr>\n",
              "      <th>min</th>\n",
              "      <td>9.000000</td>\n",
              "      <td>3.000000</td>\n",
              "      <td>68.000000</td>\n",
              "      <td>46.000000</td>\n",
              "      <td>1613.000000</td>\n",
              "      <td>8.000000</td>\n",
              "      <td>70.000000</td>\n",
              "      <td>0.000000</td>\n",
              "      <td>0.000000</td>\n",
              "      <td>0.000000</td>\n",
              "    </tr>\n",
              "    <tr>\n",
              "      <th>25%</th>\n",
              "      <td>17.000000</td>\n",
              "      <td>4.000000</td>\n",
              "      <td>105.000000</td>\n",
              "      <td>75.000000</td>\n",
              "      <td>2225.250000</td>\n",
              "      <td>13.775000</td>\n",
              "      <td>73.000000</td>\n",
              "      <td>0.000000</td>\n",
              "      <td>0.000000</td>\n",
              "      <td>0.000000</td>\n",
              "    </tr>\n",
              "    <tr>\n",
              "      <th>50%</th>\n",
              "      <td>22.750000</td>\n",
              "      <td>4.000000</td>\n",
              "      <td>151.000000</td>\n",
              "      <td>93.500000</td>\n",
              "      <td>2803.500000</td>\n",
              "      <td>15.500000</td>\n",
              "      <td>76.000000</td>\n",
              "      <td>1.000000</td>\n",
              "      <td>0.000000</td>\n",
              "      <td>0.000000</td>\n",
              "    </tr>\n",
              "    <tr>\n",
              "      <th>75%</th>\n",
              "      <td>29.000000</td>\n",
              "      <td>8.000000</td>\n",
              "      <td>275.750000</td>\n",
              "      <td>126.000000</td>\n",
              "      <td>3614.750000</td>\n",
              "      <td>17.025000</td>\n",
              "      <td>79.000000</td>\n",
              "      <td>1.000000</td>\n",
              "      <td>0.000000</td>\n",
              "      <td>0.000000</td>\n",
              "    </tr>\n",
              "    <tr>\n",
              "      <th>max</th>\n",
              "      <td>46.600000</td>\n",
              "      <td>8.000000</td>\n",
              "      <td>455.000000</td>\n",
              "      <td>230.000000</td>\n",
              "      <td>5140.000000</td>\n",
              "      <td>24.800000</td>\n",
              "      <td>82.000000</td>\n",
              "      <td>1.000000</td>\n",
              "      <td>1.000000</td>\n",
              "      <td>1.000000</td>\n",
              "    </tr>\n",
              "  </tbody>\n",
              "</table>\n",
              "</div>"
            ],
            "text/plain": [
              "              mpg   cylinders  displacement  ...    origin_1    origin_2    origin_3\n",
              "count  392.000000  392.000000    392.000000  ...  392.000000  392.000000  392.000000\n",
              "mean    23.445918    5.471939    194.411990  ...    0.625000    0.173469    0.201531\n",
              "std      7.805007    1.705783    104.644004  ...    0.484742    0.379136    0.401656\n",
              "min      9.000000    3.000000     68.000000  ...    0.000000    0.000000    0.000000\n",
              "25%     17.000000    4.000000    105.000000  ...    0.000000    0.000000    0.000000\n",
              "50%     22.750000    4.000000    151.000000  ...    1.000000    0.000000    0.000000\n",
              "75%     29.000000    8.000000    275.750000  ...    1.000000    0.000000    0.000000\n",
              "max     46.600000    8.000000    455.000000  ...    1.000000    1.000000    1.000000\n",
              "\n",
              "[8 rows x 10 columns]"
            ]
          },
          "metadata": {
            "tags": []
          },
          "execution_count": 22
        }
      ]
    },
    {
      "cell_type": "code",
      "metadata": {
        "id": "j6pcNBdQbFHP",
        "colab_type": "code",
        "colab": {}
      },
      "source": [
        "mean = X_train.mean(axis=0)\n",
        "X_train -= mean\n",
        "std = X_train.std(axis=0)\n",
        "X_train /= std\n",
        "\n",
        "X_test -= mean\n",
        "X_test /= std"
      ],
      "execution_count": 0,
      "outputs": []
    },
    {
      "cell_type": "markdown",
      "metadata": {
        "id": "ZJWFzCFqTgqK",
        "colab_type": "text"
      },
      "source": [
        "# Part 4\n",
        "Build a Sequential model in Keras with two densely connected hidden layers (32 neurons and 'relu' activation function for each hidden layer), and an output layer that returns a single, continuous value. You need to select your own loss function, optimizer, and metrics for theis specific problem."
      ]
    },
    {
      "cell_type": "code",
      "metadata": {
        "id": "HpyKE3TuUKPd",
        "colab_type": "code",
        "colab": {}
      },
      "source": [
        "model_auto = models.Sequential()\n",
        "model_auto.add(layers.Dense(32, activation='relu',\n",
        "                           input_shape=(X_train.shape[1],)))\n",
        "model_auto.add(layers.Dense(32, activation='relu'))\n",
        "model_auto.add(layers.Dense(1))\n",
        "model_auto.compile(optimizer='rmsprop', loss='mse', metrics=['mae'])"
      ],
      "execution_count": 0,
      "outputs": []
    },
    {
      "cell_type": "markdown",
      "metadata": {
        "id": "Y6jcnL_rULG4",
        "colab_type": "text"
      },
      "source": [
        "# Part 5\n",
        "Put aside 20% of the training data as the validation dataset. Train the model for 500 epochs, and plot the training and validation loss and accuracy progresses with respect to the epoch number."
      ]
    },
    {
      "cell_type": "code",
      "metadata": {
        "id": "f4NqSpu3UrZE",
        "colab_type": "code",
        "colab": {}
      },
      "source": [
        "x_val, partial_x_train = np.split(X_train, [int(0.2 * len(X_train))])\n",
        "y_val, partial_y_train = np.split(y_train, [int(0.2 * len(y_train))])"
      ],
      "execution_count": 0,
      "outputs": []
    },
    {
      "cell_type": "code",
      "metadata": {
        "id": "6PR8ldGZ3qju",
        "colab_type": "code",
        "outputId": "d25695e0-817a-4f9b-a1f9-96742d8e958a",
        "colab": {
          "base_uri": "https://localhost:8080/",
          "height": 34
        }
      },
      "source": [
        "x_val.shape"
      ],
      "execution_count": 0,
      "outputs": [
        {
          "output_type": "execute_result",
          "data": {
            "text/plain": [
              "(62, 9)"
            ]
          },
          "metadata": {
            "tags": []
          },
          "execution_count": 26
        }
      ]
    },
    {
      "cell_type": "code",
      "metadata": {
        "id": "wjnkrQa43tjD",
        "colab_type": "code",
        "outputId": "a777899c-a00d-45c4-be5c-11ecd7f59b70",
        "colab": {
          "base_uri": "https://localhost:8080/",
          "height": 34
        }
      },
      "source": [
        "partial_x_train.shape"
      ],
      "execution_count": 0,
      "outputs": [
        {
          "output_type": "execute_result",
          "data": {
            "text/plain": [
              "(251, 9)"
            ]
          },
          "metadata": {
            "tags": []
          },
          "execution_count": 27
        }
      ]
    },
    {
      "cell_type": "code",
      "metadata": {
        "id": "s2IDxDkd3x1_",
        "colab_type": "code",
        "outputId": "89c51924-e499-4013-8240-23e0f45a60b6",
        "colab": {
          "base_uri": "https://localhost:8080/",
          "height": 34
        }
      },
      "source": [
        "X_train.shape"
      ],
      "execution_count": 0,
      "outputs": [
        {
          "output_type": "execute_result",
          "data": {
            "text/plain": [
              "(313, 9)"
            ]
          },
          "metadata": {
            "tags": []
          },
          "execution_count": 28
        }
      ]
    },
    {
      "cell_type": "code",
      "metadata": {
        "id": "vft0tUmy395D",
        "colab_type": "code",
        "outputId": "2d36ea76-97de-4351-ad56-d52741168516",
        "colab": {
          "base_uri": "https://localhost:8080/",
          "height": 34
        }
      },
      "source": [
        "X_test.shape"
      ],
      "execution_count": 0,
      "outputs": [
        {
          "output_type": "execute_result",
          "data": {
            "text/plain": [
              "(79, 9)"
            ]
          },
          "metadata": {
            "tags": []
          },
          "execution_count": 29
        }
      ]
    },
    {
      "cell_type": "code",
      "metadata": {
        "id": "yCeKQPIX7MX-",
        "colab_type": "code",
        "outputId": "e238fbdf-cc1a-49fc-85f1-5eae84a50a98",
        "colab": {
          "base_uri": "https://localhost:8080/",
          "height": 34
        }
      },
      "source": [
        "y_val.shape"
      ],
      "execution_count": 0,
      "outputs": [
        {
          "output_type": "execute_result",
          "data": {
            "text/plain": [
              "(62,)"
            ]
          },
          "metadata": {
            "tags": []
          },
          "execution_count": 39
        }
      ]
    },
    {
      "cell_type": "code",
      "metadata": {
        "id": "bCRyIi2O4dSY",
        "colab_type": "code",
        "outputId": "8e04a58b-7915-470b-bf7c-30ee3729ecd8",
        "colab": {
          "base_uri": "https://localhost:8080/",
          "height": 17017
        }
      },
      "source": [
        "history_auto = model_auto.fit(partial_x_train,\n",
        "                    partial_y_train,\n",
        "                    epochs=500,\n",
        "                    batch_size=8,\n",
        "                    validation_data=(x_val, y_val))"
      ],
      "execution_count": 0,
      "outputs": [
        {
          "output_type": "stream",
          "text": [
            "Epoch 1/500\n",
            "32/32 [==============================] - 0s 3ms/step - loss: 0.9579 - mae: 0.6427 - val_loss: 3.2949 - val_mae: 1.1735\n",
            "Epoch 2/500\n",
            "32/32 [==============================] - 0s 3ms/step - loss: 0.7332 - mae: 0.5986 - val_loss: 3.4167 - val_mae: 1.2192\n",
            "Epoch 3/500\n",
            "32/32 [==============================] - 0s 3ms/step - loss: 0.9616 - mae: 0.5796 - val_loss: 5.5462 - val_mae: 1.5579\n",
            "Epoch 4/500\n",
            "32/32 [==============================] - 0s 3ms/step - loss: 0.9455 - mae: 0.6070 - val_loss: 4.5083 - val_mae: 1.3823\n",
            "Epoch 5/500\n",
            "32/32 [==============================] - 0s 3ms/step - loss: 0.8012 - mae: 0.5671 - val_loss: 3.2748 - val_mae: 1.2084\n",
            "Epoch 6/500\n",
            "32/32 [==============================] - 0s 3ms/step - loss: 0.8509 - mae: 0.6207 - val_loss: 4.0944 - val_mae: 1.3049\n",
            "Epoch 7/500\n",
            "32/32 [==============================] - 0s 2ms/step - loss: 0.7945 - mae: 0.5841 - val_loss: 4.6433 - val_mae: 1.3293\n",
            "Epoch 8/500\n",
            "32/32 [==============================] - 0s 3ms/step - loss: 0.8779 - mae: 0.6053 - val_loss: 5.3905 - val_mae: 1.5209\n",
            "Epoch 9/500\n",
            "32/32 [==============================] - 0s 3ms/step - loss: 0.8260 - mae: 0.5965 - val_loss: 4.9691 - val_mae: 1.4416\n",
            "Epoch 10/500\n",
            "32/32 [==============================] - 0s 2ms/step - loss: 0.7923 - mae: 0.5781 - val_loss: 5.3068 - val_mae: 1.4497\n",
            "Epoch 11/500\n",
            "32/32 [==============================] - 0s 3ms/step - loss: 0.9635 - mae: 0.5928 - val_loss: 5.3811 - val_mae: 1.3939\n",
            "Epoch 12/500\n",
            "32/32 [==============================] - 0s 3ms/step - loss: 0.7802 - mae: 0.5890 - val_loss: 5.5014 - val_mae: 1.5018\n",
            "Epoch 13/500\n",
            "32/32 [==============================] - 0s 3ms/step - loss: 0.8458 - mae: 0.5843 - val_loss: 5.6334 - val_mae: 1.4612\n",
            "Epoch 14/500\n",
            "32/32 [==============================] - 0s 3ms/step - loss: 0.9288 - mae: 0.5973 - val_loss: 5.1172 - val_mae: 1.4828\n",
            "Epoch 15/500\n",
            "32/32 [==============================] - 0s 3ms/step - loss: 0.7760 - mae: 0.5751 - val_loss: 5.1787 - val_mae: 1.4339\n",
            "Epoch 16/500\n",
            "32/32 [==============================] - 0s 3ms/step - loss: 0.8165 - mae: 0.5686 - val_loss: 4.6789 - val_mae: 1.3913\n",
            "Epoch 17/500\n",
            "32/32 [==============================] - 0s 3ms/step - loss: 0.7370 - mae: 0.5654 - val_loss: 5.7626 - val_mae: 1.5072\n",
            "Epoch 18/500\n",
            "32/32 [==============================] - 0s 2ms/step - loss: 0.8358 - mae: 0.5520 - val_loss: 6.0115 - val_mae: 1.5129\n",
            "Epoch 19/500\n",
            "32/32 [==============================] - 0s 2ms/step - loss: 0.7975 - mae: 0.5547 - val_loss: 5.3671 - val_mae: 1.4544\n",
            "Epoch 20/500\n",
            "32/32 [==============================] - 0s 3ms/step - loss: 0.8109 - mae: 0.5864 - val_loss: 5.2104 - val_mae: 1.3926\n",
            "Epoch 21/500\n",
            "32/32 [==============================] - 0s 3ms/step - loss: 0.7485 - mae: 0.5673 - val_loss: 7.2696 - val_mae: 1.6339\n",
            "Epoch 22/500\n",
            "32/32 [==============================] - 0s 3ms/step - loss: 0.7410 - mae: 0.5797 - val_loss: 5.5357 - val_mae: 1.4936\n",
            "Epoch 23/500\n",
            "32/32 [==============================] - 0s 2ms/step - loss: 0.8696 - mae: 0.5611 - val_loss: 5.5961 - val_mae: 1.5373\n",
            "Epoch 24/500\n",
            "32/32 [==============================] - 0s 3ms/step - loss: 0.7805 - mae: 0.5686 - val_loss: 5.1126 - val_mae: 1.3995\n",
            "Epoch 25/500\n",
            "32/32 [==============================] - 0s 3ms/step - loss: 0.8171 - mae: 0.5723 - val_loss: 6.3885 - val_mae: 1.5750\n",
            "Epoch 26/500\n",
            "32/32 [==============================] - 0s 3ms/step - loss: 0.7971 - mae: 0.5609 - val_loss: 4.7233 - val_mae: 1.3559\n",
            "Epoch 27/500\n",
            "32/32 [==============================] - 0s 3ms/step - loss: 0.7238 - mae: 0.5500 - val_loss: 6.0910 - val_mae: 1.5130\n",
            "Epoch 28/500\n",
            "32/32 [==============================] - 0s 3ms/step - loss: 0.8055 - mae: 0.5701 - val_loss: 5.3704 - val_mae: 1.5203\n",
            "Epoch 29/500\n",
            "32/32 [==============================] - 0s 3ms/step - loss: 0.7984 - mae: 0.5811 - val_loss: 5.2832 - val_mae: 1.4870\n",
            "Epoch 30/500\n",
            "32/32 [==============================] - 0s 3ms/step - loss: 0.7736 - mae: 0.5491 - val_loss: 5.3584 - val_mae: 1.4819\n",
            "Epoch 31/500\n",
            "32/32 [==============================] - 0s 3ms/step - loss: 0.9097 - mae: 0.5714 - val_loss: 5.7501 - val_mae: 1.5016\n",
            "Epoch 32/500\n",
            "32/32 [==============================] - 0s 3ms/step - loss: 0.7381 - mae: 0.5588 - val_loss: 5.8485 - val_mae: 1.4884\n",
            "Epoch 33/500\n",
            "32/32 [==============================] - 0s 3ms/step - loss: 0.9321 - mae: 0.5571 - val_loss: 5.9364 - val_mae: 1.5304\n",
            "Epoch 34/500\n",
            "32/32 [==============================] - 0s 3ms/step - loss: 0.7311 - mae: 0.5357 - val_loss: 5.4882 - val_mae: 1.4758\n",
            "Epoch 35/500\n",
            "32/32 [==============================] - 0s 3ms/step - loss: 0.7647 - mae: 0.5478 - val_loss: 6.1994 - val_mae: 1.5919\n",
            "Epoch 36/500\n",
            "32/32 [==============================] - 0s 3ms/step - loss: 0.8100 - mae: 0.5632 - val_loss: 5.8183 - val_mae: 1.5278\n",
            "Epoch 37/500\n",
            "32/32 [==============================] - 0s 3ms/step - loss: 0.6921 - mae: 0.5749 - val_loss: 5.3748 - val_mae: 1.4273\n",
            "Epoch 38/500\n",
            "32/32 [==============================] - 0s 3ms/step - loss: 0.7660 - mae: 0.5605 - val_loss: 6.1325 - val_mae: 1.5253\n",
            "Epoch 39/500\n",
            "32/32 [==============================] - 0s 3ms/step - loss: 0.8905 - mae: 0.5775 - val_loss: 5.6884 - val_mae: 1.5460\n",
            "Epoch 40/500\n",
            "32/32 [==============================] - 0s 2ms/step - loss: 0.7597 - mae: 0.5560 - val_loss: 6.4007 - val_mae: 1.6604\n",
            "Epoch 41/500\n",
            "32/32 [==============================] - 0s 2ms/step - loss: 0.7271 - mae: 0.5514 - val_loss: 5.5966 - val_mae: 1.4662\n",
            "Epoch 42/500\n",
            "32/32 [==============================] - 0s 3ms/step - loss: 0.7629 - mae: 0.5672 - val_loss: 5.1714 - val_mae: 1.4681\n",
            "Epoch 43/500\n",
            "32/32 [==============================] - 0s 2ms/step - loss: 0.8311 - mae: 0.5507 - val_loss: 6.1725 - val_mae: 1.6074\n",
            "Epoch 44/500\n",
            "32/32 [==============================] - 0s 3ms/step - loss: 0.7701 - mae: 0.5414 - val_loss: 5.8237 - val_mae: 1.5614\n",
            "Epoch 45/500\n",
            "32/32 [==============================] - 0s 2ms/step - loss: 0.8787 - mae: 0.5769 - val_loss: 6.0056 - val_mae: 1.5367\n",
            "Epoch 46/500\n",
            "32/32 [==============================] - 0s 3ms/step - loss: 0.6810 - mae: 0.5375 - val_loss: 7.7625 - val_mae: 1.7009\n",
            "Epoch 47/500\n",
            "32/32 [==============================] - 0s 3ms/step - loss: 0.8104 - mae: 0.5688 - val_loss: 6.2634 - val_mae: 1.6048\n",
            "Epoch 48/500\n",
            "32/32 [==============================] - 0s 3ms/step - loss: 0.8119 - mae: 0.5611 - val_loss: 5.8194 - val_mae: 1.6479\n",
            "Epoch 49/500\n",
            "32/32 [==============================] - 0s 3ms/step - loss: 0.7874 - mae: 0.5231 - val_loss: 5.4820 - val_mae: 1.4927\n",
            "Epoch 50/500\n",
            "32/32 [==============================] - 0s 3ms/step - loss: 0.7521 - mae: 0.5525 - val_loss: 5.0994 - val_mae: 1.4251\n",
            "Epoch 51/500\n",
            "32/32 [==============================] - 0s 3ms/step - loss: 0.7858 - mae: 0.5584 - val_loss: 6.1958 - val_mae: 1.5510\n",
            "Epoch 52/500\n",
            "32/32 [==============================] - 0s 2ms/step - loss: 0.7707 - mae: 0.5312 - val_loss: 5.6267 - val_mae: 1.5311\n",
            "Epoch 53/500\n",
            "32/32 [==============================] - 0s 3ms/step - loss: 0.6863 - mae: 0.5343 - val_loss: 6.4210 - val_mae: 1.7404\n",
            "Epoch 54/500\n",
            "32/32 [==============================] - 0s 3ms/step - loss: 0.9061 - mae: 0.5717 - val_loss: 6.9365 - val_mae: 1.6258\n",
            "Epoch 55/500\n",
            "32/32 [==============================] - 0s 3ms/step - loss: 0.7314 - mae: 0.5393 - val_loss: 5.8736 - val_mae: 1.5596\n",
            "Epoch 56/500\n",
            "32/32 [==============================] - 0s 3ms/step - loss: 0.7092 - mae: 0.5137 - val_loss: 5.4524 - val_mae: 1.5110\n",
            "Epoch 57/500\n",
            "32/32 [==============================] - 0s 3ms/step - loss: 0.9033 - mae: 0.5674 - val_loss: 5.9114 - val_mae: 1.5388\n",
            "Epoch 58/500\n",
            "32/32 [==============================] - 0s 3ms/step - loss: 0.7816 - mae: 0.5419 - val_loss: 5.2103 - val_mae: 1.5188\n",
            "Epoch 59/500\n",
            "32/32 [==============================] - 0s 3ms/step - loss: 0.7634 - mae: 0.5568 - val_loss: 8.0658 - val_mae: 1.6806\n",
            "Epoch 60/500\n",
            "32/32 [==============================] - 0s 3ms/step - loss: 0.7934 - mae: 0.5501 - val_loss: 7.3505 - val_mae: 1.8560\n",
            "Epoch 61/500\n",
            "32/32 [==============================] - 0s 3ms/step - loss: 0.8127 - mae: 0.5538 - val_loss: 6.0085 - val_mae: 1.5543\n",
            "Epoch 62/500\n",
            "32/32 [==============================] - 0s 2ms/step - loss: 0.7847 - mae: 0.5582 - val_loss: 5.4827 - val_mae: 1.5446\n",
            "Epoch 63/500\n",
            "32/32 [==============================] - 0s 3ms/step - loss: 0.6555 - mae: 0.5414 - val_loss: 8.1067 - val_mae: 1.7392\n",
            "Epoch 64/500\n",
            "32/32 [==============================] - 0s 3ms/step - loss: 0.7053 - mae: 0.5531 - val_loss: 5.8552 - val_mae: 1.5414\n",
            "Epoch 65/500\n",
            "32/32 [==============================] - 0s 2ms/step - loss: 0.8201 - mae: 0.5469 - val_loss: 6.4778 - val_mae: 1.5533\n",
            "Epoch 66/500\n",
            "32/32 [==============================] - 0s 2ms/step - loss: 0.6834 - mae: 0.5257 - val_loss: 6.7879 - val_mae: 1.6484\n",
            "Epoch 67/500\n",
            "32/32 [==============================] - 0s 3ms/step - loss: 0.8506 - mae: 0.5164 - val_loss: 6.5732 - val_mae: 1.5715\n",
            "Epoch 68/500\n",
            "32/32 [==============================] - 0s 3ms/step - loss: 0.6889 - mae: 0.5392 - val_loss: 6.5594 - val_mae: 1.7237\n",
            "Epoch 69/500\n",
            "32/32 [==============================] - 0s 2ms/step - loss: 0.8084 - mae: 0.5809 - val_loss: 7.1146 - val_mae: 1.6925\n",
            "Epoch 70/500\n",
            "32/32 [==============================] - 0s 3ms/step - loss: 0.8063 - mae: 0.5566 - val_loss: 7.5380 - val_mae: 1.6755\n",
            "Epoch 71/500\n",
            "32/32 [==============================] - 0s 3ms/step - loss: 0.7414 - mae: 0.5376 - val_loss: 7.2484 - val_mae: 1.6339\n",
            "Epoch 72/500\n",
            "32/32 [==============================] - 0s 3ms/step - loss: 0.7682 - mae: 0.5457 - val_loss: 6.8893 - val_mae: 1.6556\n",
            "Epoch 73/500\n",
            "32/32 [==============================] - 0s 2ms/step - loss: 0.8047 - mae: 0.5562 - val_loss: 7.2225 - val_mae: 1.6834\n",
            "Epoch 74/500\n",
            "32/32 [==============================] - 0s 3ms/step - loss: 0.7007 - mae: 0.5052 - val_loss: 6.0306 - val_mae: 1.5444\n",
            "Epoch 75/500\n",
            "32/32 [==============================] - 0s 3ms/step - loss: 0.8487 - mae: 0.5457 - val_loss: 6.3730 - val_mae: 1.6079\n",
            "Epoch 76/500\n",
            "32/32 [==============================] - 0s 3ms/step - loss: 0.7289 - mae: 0.5477 - val_loss: 7.3095 - val_mae: 1.6470\n",
            "Epoch 77/500\n",
            "32/32 [==============================] - 0s 3ms/step - loss: 0.7412 - mae: 0.5292 - val_loss: 5.6793 - val_mae: 1.5332\n",
            "Epoch 78/500\n",
            "32/32 [==============================] - 0s 3ms/step - loss: 0.7820 - mae: 0.5294 - val_loss: 6.2793 - val_mae: 1.5392\n",
            "Epoch 79/500\n",
            "32/32 [==============================] - 0s 3ms/step - loss: 0.8568 - mae: 0.5422 - val_loss: 6.4031 - val_mae: 1.5328\n",
            "Epoch 80/500\n",
            "32/32 [==============================] - 0s 3ms/step - loss: 0.7433 - mae: 0.5140 - val_loss: 6.9243 - val_mae: 1.6405\n",
            "Epoch 81/500\n",
            "32/32 [==============================] - 0s 2ms/step - loss: 0.8150 - mae: 0.5538 - val_loss: 6.7379 - val_mae: 1.5977\n",
            "Epoch 82/500\n",
            "32/32 [==============================] - 0s 2ms/step - loss: 0.7199 - mae: 0.5396 - val_loss: 6.4560 - val_mae: 1.5864\n",
            "Epoch 83/500\n",
            "32/32 [==============================] - 0s 3ms/step - loss: 0.7209 - mae: 0.5342 - val_loss: 6.4711 - val_mae: 1.6787\n",
            "Epoch 84/500\n",
            "32/32 [==============================] - 0s 3ms/step - loss: 0.7392 - mae: 0.5627 - val_loss: 6.4595 - val_mae: 1.6005\n",
            "Epoch 85/500\n",
            "32/32 [==============================] - 0s 2ms/step - loss: 0.7534 - mae: 0.5480 - val_loss: 8.6718 - val_mae: 1.8095\n",
            "Epoch 86/500\n",
            "32/32 [==============================] - 0s 2ms/step - loss: 0.7874 - mae: 0.5573 - val_loss: 6.4531 - val_mae: 1.6240\n",
            "Epoch 87/500\n",
            "32/32 [==============================] - 0s 2ms/step - loss: 0.7909 - mae: 0.5421 - val_loss: 6.0778 - val_mae: 1.5799\n",
            "Epoch 88/500\n",
            "32/32 [==============================] - 0s 3ms/step - loss: 0.7182 - mae: 0.5161 - val_loss: 6.7016 - val_mae: 1.6440\n",
            "Epoch 89/500\n",
            "32/32 [==============================] - 0s 3ms/step - loss: 0.6821 - mae: 0.5304 - val_loss: 6.9880 - val_mae: 1.6781\n",
            "Epoch 90/500\n",
            "32/32 [==============================] - 0s 2ms/step - loss: 0.8680 - mae: 0.5679 - val_loss: 6.1182 - val_mae: 1.5758\n",
            "Epoch 91/500\n",
            "32/32 [==============================] - 0s 2ms/step - loss: 0.7161 - mae: 0.5285 - val_loss: 8.2263 - val_mae: 1.7503\n",
            "Epoch 92/500\n",
            "32/32 [==============================] - 0s 2ms/step - loss: 0.7864 - mae: 0.5278 - val_loss: 5.9328 - val_mae: 1.5309\n",
            "Epoch 93/500\n",
            "32/32 [==============================] - 0s 3ms/step - loss: 0.7431 - mae: 0.5286 - val_loss: 6.6433 - val_mae: 1.6685\n",
            "Epoch 94/500\n",
            "32/32 [==============================] - 0s 2ms/step - loss: 0.7407 - mae: 0.5320 - val_loss: 7.7963 - val_mae: 1.7221\n",
            "Epoch 95/500\n",
            "32/32 [==============================] - 0s 2ms/step - loss: 0.7929 - mae: 0.5503 - val_loss: 6.2356 - val_mae: 1.6020\n",
            "Epoch 96/500\n",
            "32/32 [==============================] - 0s 3ms/step - loss: 0.7916 - mae: 0.5331 - val_loss: 7.9484 - val_mae: 1.7632\n",
            "Epoch 97/500\n",
            "32/32 [==============================] - 0s 2ms/step - loss: 0.7873 - mae: 0.5607 - val_loss: 6.5764 - val_mae: 1.7025\n",
            "Epoch 98/500\n",
            "32/32 [==============================] - 0s 3ms/step - loss: 1.1271 - mae: 0.5286 - val_loss: 9.1635 - val_mae: 1.8578\n",
            "Epoch 99/500\n",
            "32/32 [==============================] - 0s 2ms/step - loss: 0.6958 - mae: 0.5366 - val_loss: 6.6154 - val_mae: 1.6070\n",
            "Epoch 100/500\n",
            "32/32 [==============================] - 0s 2ms/step - loss: 0.6804 - mae: 0.5300 - val_loss: 7.6398 - val_mae: 1.6611\n",
            "Epoch 101/500\n",
            "32/32 [==============================] - 0s 2ms/step - loss: 0.7272 - mae: 0.5458 - val_loss: 6.3142 - val_mae: 1.5518\n",
            "Epoch 102/500\n",
            "32/32 [==============================] - 0s 3ms/step - loss: 0.8452 - mae: 0.5402 - val_loss: 6.4002 - val_mae: 1.6940\n",
            "Epoch 103/500\n",
            "32/32 [==============================] - 0s 2ms/step - loss: 0.7939 - mae: 0.5481 - val_loss: 7.3927 - val_mae: 1.6263\n",
            "Epoch 104/500\n",
            "32/32 [==============================] - 0s 2ms/step - loss: 0.6998 - mae: 0.5379 - val_loss: 9.0831 - val_mae: 1.9360\n",
            "Epoch 105/500\n",
            "32/32 [==============================] - 0s 3ms/step - loss: 0.7647 - mae: 0.5662 - val_loss: 6.7104 - val_mae: 1.5911\n",
            "Epoch 106/500\n",
            "32/32 [==============================] - 0s 2ms/step - loss: 0.6863 - mae: 0.5474 - val_loss: 6.5510 - val_mae: 1.5803\n",
            "Epoch 107/500\n",
            "32/32 [==============================] - 0s 2ms/step - loss: 0.7454 - mae: 0.5385 - val_loss: 7.3207 - val_mae: 1.6488\n",
            "Epoch 108/500\n",
            "32/32 [==============================] - 0s 3ms/step - loss: 0.6949 - mae: 0.5256 - val_loss: 7.2676 - val_mae: 1.7365\n",
            "Epoch 109/500\n",
            "32/32 [==============================] - 0s 3ms/step - loss: 0.7175 - mae: 0.5334 - val_loss: 7.4393 - val_mae: 1.7461\n",
            "Epoch 110/500\n",
            "32/32 [==============================] - 0s 2ms/step - loss: 0.6939 - mae: 0.5572 - val_loss: 7.0213 - val_mae: 1.6558\n",
            "Epoch 111/500\n",
            "32/32 [==============================] - 0s 3ms/step - loss: 0.8729 - mae: 0.5445 - val_loss: 7.4313 - val_mae: 1.7839\n",
            "Epoch 112/500\n",
            "32/32 [==============================] - 0s 2ms/step - loss: 0.7793 - mae: 0.5483 - val_loss: 6.5746 - val_mae: 1.6720\n",
            "Epoch 113/500\n",
            "32/32 [==============================] - 0s 2ms/step - loss: 0.7180 - mae: 0.5292 - val_loss: 6.1284 - val_mae: 1.5532\n",
            "Epoch 114/500\n",
            "32/32 [==============================] - 0s 2ms/step - loss: 0.6794 - mae: 0.5478 - val_loss: 6.6161 - val_mae: 1.5852\n",
            "Epoch 115/500\n",
            "32/32 [==============================] - 0s 2ms/step - loss: 0.7426 - mae: 0.5372 - val_loss: 8.1633 - val_mae: 1.7355\n",
            "Epoch 116/500\n",
            "32/32 [==============================] - 0s 2ms/step - loss: 0.6736 - mae: 0.5210 - val_loss: 7.2098 - val_mae: 1.6662\n",
            "Epoch 117/500\n",
            "32/32 [==============================] - 0s 2ms/step - loss: 0.7209 - mae: 0.5277 - val_loss: 7.5139 - val_mae: 1.7544\n",
            "Epoch 118/500\n",
            "32/32 [==============================] - 0s 3ms/step - loss: 0.8366 - mae: 0.5290 - val_loss: 8.0276 - val_mae: 1.8389\n",
            "Epoch 119/500\n",
            "32/32 [==============================] - 0s 2ms/step - loss: 0.7451 - mae: 0.5658 - val_loss: 6.5768 - val_mae: 1.6277\n",
            "Epoch 120/500\n",
            "32/32 [==============================] - 0s 3ms/step - loss: 0.6732 - mae: 0.5058 - val_loss: 5.9376 - val_mae: 1.6824\n",
            "Epoch 121/500\n",
            "32/32 [==============================] - 0s 3ms/step - loss: 0.8051 - mae: 0.5734 - val_loss: 6.6278 - val_mae: 1.6471\n",
            "Epoch 122/500\n",
            "32/32 [==============================] - 0s 2ms/step - loss: 0.7073 - mae: 0.5400 - val_loss: 5.9065 - val_mae: 1.5464\n",
            "Epoch 123/500\n",
            "32/32 [==============================] - 0s 2ms/step - loss: 0.7060 - mae: 0.5325 - val_loss: 6.0089 - val_mae: 1.5654\n",
            "Epoch 124/500\n",
            "32/32 [==============================] - 0s 2ms/step - loss: 0.7728 - mae: 0.5195 - val_loss: 9.6464 - val_mae: 1.9113\n",
            "Epoch 125/500\n",
            "32/32 [==============================] - 0s 2ms/step - loss: 0.7443 - mae: 0.5464 - val_loss: 7.0583 - val_mae: 1.6976\n",
            "Epoch 126/500\n",
            "32/32 [==============================] - 0s 2ms/step - loss: 0.6944 - mae: 0.5495 - val_loss: 7.8496 - val_mae: 1.7320\n",
            "Epoch 127/500\n",
            "32/32 [==============================] - 0s 3ms/step - loss: 0.6691 - mae: 0.5072 - val_loss: 7.5073 - val_mae: 1.7556\n",
            "Epoch 128/500\n",
            "32/32 [==============================] - 0s 2ms/step - loss: 0.7782 - mae: 0.5572 - val_loss: 9.4791 - val_mae: 1.9955\n",
            "Epoch 129/500\n",
            "32/32 [==============================] - 0s 2ms/step - loss: 0.7541 - mae: 0.5455 - val_loss: 8.2586 - val_mae: 1.7639\n",
            "Epoch 130/500\n",
            "32/32 [==============================] - 0s 3ms/step - loss: 0.7063 - mae: 0.5183 - val_loss: 7.5292 - val_mae: 1.7122\n",
            "Epoch 131/500\n",
            "32/32 [==============================] - 1s 17ms/step - loss: 0.8453 - mae: 0.5196 - val_loss: 8.6676 - val_mae: 1.8931\n",
            "Epoch 132/500\n",
            "32/32 [==============================] - 0s 2ms/step - loss: 0.6803 - mae: 0.5132 - val_loss: 7.0770 - val_mae: 1.6893\n",
            "Epoch 133/500\n",
            "32/32 [==============================] - 0s 2ms/step - loss: 0.7375 - mae: 0.5134 - val_loss: 7.1669 - val_mae: 1.6757\n",
            "Epoch 134/500\n",
            "32/32 [==============================] - 0s 2ms/step - loss: 0.7420 - mae: 0.5246 - val_loss: 7.7997 - val_mae: 1.7521\n",
            "Epoch 135/500\n",
            "32/32 [==============================] - 0s 2ms/step - loss: 0.7461 - mae: 0.5518 - val_loss: 6.3296 - val_mae: 1.6125\n",
            "Epoch 136/500\n",
            "32/32 [==============================] - 0s 2ms/step - loss: 0.7589 - mae: 0.5421 - val_loss: 7.0240 - val_mae: 1.6643\n",
            "Epoch 137/500\n",
            "32/32 [==============================] - 0s 3ms/step - loss: 0.5866 - mae: 0.4936 - val_loss: 9.7543 - val_mae: 1.9608\n",
            "Epoch 138/500\n",
            "32/32 [==============================] - 0s 3ms/step - loss: 0.7460 - mae: 0.5405 - val_loss: 8.0897 - val_mae: 1.8968\n",
            "Epoch 139/500\n",
            "32/32 [==============================] - 0s 3ms/step - loss: 0.7317 - mae: 0.5335 - val_loss: 7.0805 - val_mae: 1.6502\n",
            "Epoch 140/500\n",
            "32/32 [==============================] - 0s 2ms/step - loss: 0.7216 - mae: 0.5331 - val_loss: 7.8165 - val_mae: 1.7623\n",
            "Epoch 141/500\n",
            "32/32 [==============================] - 0s 2ms/step - loss: 0.7884 - mae: 0.5525 - val_loss: 7.4285 - val_mae: 1.7641\n",
            "Epoch 142/500\n",
            "32/32 [==============================] - 0s 2ms/step - loss: 0.7283 - mae: 0.5303 - val_loss: 7.1981 - val_mae: 1.7057\n",
            "Epoch 143/500\n",
            "32/32 [==============================] - 0s 2ms/step - loss: 0.7322 - mae: 0.5296 - val_loss: 6.5944 - val_mae: 1.6526\n",
            "Epoch 144/500\n",
            "32/32 [==============================] - 0s 2ms/step - loss: 0.7497 - mae: 0.5465 - val_loss: 7.0634 - val_mae: 1.6424\n",
            "Epoch 145/500\n",
            "32/32 [==============================] - 0s 2ms/step - loss: 1.2385 - mae: 0.5460 - val_loss: 10.2492 - val_mae: 1.9420\n",
            "Epoch 146/500\n",
            "32/32 [==============================] - 0s 2ms/step - loss: 0.7117 - mae: 0.5140 - val_loss: 7.1936 - val_mae: 1.6550\n",
            "Epoch 147/500\n",
            "32/32 [==============================] - 0s 3ms/step - loss: 0.6657 - mae: 0.5350 - val_loss: 6.9124 - val_mae: 1.6607\n",
            "Epoch 148/500\n",
            "32/32 [==============================] - 0s 3ms/step - loss: 0.7670 - mae: 0.5672 - val_loss: 6.8295 - val_mae: 1.6537\n",
            "Epoch 149/500\n",
            "32/32 [==============================] - 0s 3ms/step - loss: 0.6533 - mae: 0.5171 - val_loss: 8.1966 - val_mae: 1.8757\n",
            "Epoch 150/500\n",
            "32/32 [==============================] - 0s 3ms/step - loss: 0.7588 - mae: 0.5434 - val_loss: 7.3975 - val_mae: 1.8102\n",
            "Epoch 151/500\n",
            "32/32 [==============================] - 0s 2ms/step - loss: 0.7249 - mae: 0.5539 - val_loss: 7.6581 - val_mae: 1.6832\n",
            "Epoch 152/500\n",
            "32/32 [==============================] - 0s 2ms/step - loss: 0.7329 - mae: 0.5348 - val_loss: 8.2732 - val_mae: 1.8276\n",
            "Epoch 153/500\n",
            "32/32 [==============================] - 0s 2ms/step - loss: 0.7522 - mae: 0.5288 - val_loss: 7.2950 - val_mae: 1.7014\n",
            "Epoch 154/500\n",
            "32/32 [==============================] - 0s 2ms/step - loss: 0.7236 - mae: 0.5288 - val_loss: 7.2610 - val_mae: 1.7166\n",
            "Epoch 155/500\n",
            "32/32 [==============================] - 0s 2ms/step - loss: 0.7398 - mae: 0.5500 - val_loss: 7.2164 - val_mae: 1.7575\n",
            "Epoch 156/500\n",
            "32/32 [==============================] - 0s 2ms/step - loss: 0.6929 - mae: 0.5297 - val_loss: 9.5755 - val_mae: 1.9192\n",
            "Epoch 157/500\n",
            "32/32 [==============================] - 0s 3ms/step - loss: 0.6626 - mae: 0.5207 - val_loss: 10.1698 - val_mae: 1.9276\n",
            "Epoch 158/500\n",
            "32/32 [==============================] - 0s 3ms/step - loss: 0.7108 - mae: 0.5705 - val_loss: 6.8812 - val_mae: 1.6324\n",
            "Epoch 159/500\n",
            "32/32 [==============================] - 0s 3ms/step - loss: 0.7252 - mae: 0.5407 - val_loss: 8.4317 - val_mae: 1.8150\n",
            "Epoch 160/500\n",
            "32/32 [==============================] - 0s 2ms/step - loss: 0.6806 - mae: 0.5265 - val_loss: 6.8096 - val_mae: 1.7137\n",
            "Epoch 161/500\n",
            "32/32 [==============================] - 0s 2ms/step - loss: 0.7571 - mae: 0.5541 - val_loss: 7.2644 - val_mae: 1.6908\n",
            "Epoch 162/500\n",
            "32/32 [==============================] - 0s 2ms/step - loss: 0.7069 - mae: 0.5120 - val_loss: 8.1966 - val_mae: 1.7542\n",
            "Epoch 163/500\n",
            "32/32 [==============================] - 0s 3ms/step - loss: 0.7211 - mae: 0.5603 - val_loss: 8.3772 - val_mae: 1.8085\n",
            "Epoch 164/500\n",
            "32/32 [==============================] - 0s 2ms/step - loss: 0.7081 - mae: 0.5060 - val_loss: 7.3922 - val_mae: 1.7258\n",
            "Epoch 165/500\n",
            "32/32 [==============================] - 0s 2ms/step - loss: 0.7820 - mae: 0.5434 - val_loss: 8.5112 - val_mae: 1.7443\n",
            "Epoch 166/500\n",
            "32/32 [==============================] - 0s 3ms/step - loss: 0.7861 - mae: 0.5206 - val_loss: 8.5825 - val_mae: 1.7596\n",
            "Epoch 167/500\n",
            "32/32 [==============================] - 0s 2ms/step - loss: 0.6842 - mae: 0.5356 - val_loss: 8.5094 - val_mae: 1.7828\n",
            "Epoch 168/500\n",
            "32/32 [==============================] - 0s 2ms/step - loss: 0.8230 - mae: 0.5549 - val_loss: 8.3426 - val_mae: 1.8024\n",
            "Epoch 169/500\n",
            "32/32 [==============================] - 0s 2ms/step - loss: 0.6786 - mae: 0.4896 - val_loss: 10.3078 - val_mae: 1.8876\n",
            "Epoch 170/500\n",
            "32/32 [==============================] - 0s 2ms/step - loss: 0.8284 - mae: 0.5483 - val_loss: 6.8249 - val_mae: 1.6919\n",
            "Epoch 171/500\n",
            "32/32 [==============================] - 0s 2ms/step - loss: 0.6799 - mae: 0.5337 - val_loss: 7.3214 - val_mae: 1.7178\n",
            "Epoch 172/500\n",
            "32/32 [==============================] - 0s 2ms/step - loss: 0.7282 - mae: 0.5364 - val_loss: 7.8003 - val_mae: 1.7365\n",
            "Epoch 173/500\n",
            "32/32 [==============================] - 0s 2ms/step - loss: 0.7305 - mae: 0.5378 - val_loss: 8.0380 - val_mae: 1.7247\n",
            "Epoch 174/500\n",
            "32/32 [==============================] - 0s 3ms/step - loss: 0.7287 - mae: 0.5030 - val_loss: 8.8614 - val_mae: 1.8150\n",
            "Epoch 175/500\n",
            "32/32 [==============================] - 0s 3ms/step - loss: 0.6751 - mae: 0.5323 - val_loss: 7.8812 - val_mae: 1.7223\n",
            "Epoch 176/500\n",
            "32/32 [==============================] - 0s 3ms/step - loss: 0.8254 - mae: 0.5440 - val_loss: 8.3221 - val_mae: 1.8564\n",
            "Epoch 177/500\n",
            "32/32 [==============================] - 0s 3ms/step - loss: 0.6194 - mae: 0.5125 - val_loss: 7.1182 - val_mae: 1.6392\n",
            "Epoch 178/500\n",
            "32/32 [==============================] - 0s 2ms/step - loss: 0.8188 - mae: 0.5566 - val_loss: 7.4108 - val_mae: 1.6617\n",
            "Epoch 179/500\n",
            "32/32 [==============================] - 0s 2ms/step - loss: 0.6822 - mae: 0.5277 - val_loss: 8.0527 - val_mae: 1.7175\n",
            "Epoch 180/500\n",
            "32/32 [==============================] - 0s 2ms/step - loss: 0.6221 - mae: 0.4896 - val_loss: 7.5188 - val_mae: 1.7422\n",
            "Epoch 181/500\n",
            "32/32 [==============================] - 0s 2ms/step - loss: 0.7612 - mae: 0.5311 - val_loss: 7.8090 - val_mae: 1.7903\n",
            "Epoch 182/500\n",
            "32/32 [==============================] - 0s 2ms/step - loss: 0.7003 - mae: 0.5400 - val_loss: 9.2210 - val_mae: 2.0312\n",
            "Epoch 183/500\n",
            "32/32 [==============================] - 0s 2ms/step - loss: 0.7360 - mae: 0.5328 - val_loss: 7.5149 - val_mae: 1.7543\n",
            "Epoch 184/500\n",
            "32/32 [==============================] - 0s 3ms/step - loss: 0.7659 - mae: 0.5367 - val_loss: 7.0303 - val_mae: 1.6795\n",
            "Epoch 185/500\n",
            "32/32 [==============================] - 0s 3ms/step - loss: 0.7074 - mae: 0.5189 - val_loss: 7.2303 - val_mae: 1.7096\n",
            "Epoch 186/500\n",
            "32/32 [==============================] - 0s 2ms/step - loss: 0.6889 - mae: 0.5204 - val_loss: 7.4803 - val_mae: 1.7923\n",
            "Epoch 187/500\n",
            "32/32 [==============================] - 0s 3ms/step - loss: 0.8608 - mae: 0.5531 - val_loss: 7.4016 - val_mae: 1.6851\n",
            "Epoch 188/500\n",
            "32/32 [==============================] - 0s 2ms/step - loss: 0.6367 - mae: 0.5037 - val_loss: 7.9105 - val_mae: 1.7350\n",
            "Epoch 189/500\n",
            "32/32 [==============================] - 0s 2ms/step - loss: 0.6754 - mae: 0.5097 - val_loss: 7.5681 - val_mae: 1.7184\n",
            "Epoch 190/500\n",
            "32/32 [==============================] - 0s 3ms/step - loss: 0.7828 - mae: 0.5457 - val_loss: 8.5570 - val_mae: 1.8754\n",
            "Epoch 191/500\n",
            "32/32 [==============================] - 0s 2ms/step - loss: 0.8176 - mae: 0.5171 - val_loss: 8.3402 - val_mae: 1.8894\n",
            "Epoch 192/500\n",
            "32/32 [==============================] - 0s 2ms/step - loss: 0.7187 - mae: 0.5188 - val_loss: 7.7527 - val_mae: 1.7098\n",
            "Epoch 193/500\n",
            "32/32 [==============================] - 0s 3ms/step - loss: 0.6820 - mae: 0.5188 - val_loss: 7.7448 - val_mae: 1.7875\n",
            "Epoch 194/500\n",
            "32/32 [==============================] - 0s 3ms/step - loss: 0.6831 - mae: 0.5132 - val_loss: 7.5674 - val_mae: 1.7813\n",
            "Epoch 195/500\n",
            "32/32 [==============================] - 0s 3ms/step - loss: 0.7419 - mae: 0.5478 - val_loss: 8.7063 - val_mae: 1.8532\n",
            "Epoch 196/500\n",
            "32/32 [==============================] - 0s 2ms/step - loss: 0.7016 - mae: 0.5032 - val_loss: 8.3982 - val_mae: 1.7972\n",
            "Epoch 197/500\n",
            "32/32 [==============================] - 0s 2ms/step - loss: 0.6574 - mae: 0.5287 - val_loss: 7.9227 - val_mae: 1.7981\n",
            "Epoch 198/500\n",
            "32/32 [==============================] - 0s 2ms/step - loss: 0.7217 - mae: 0.5470 - val_loss: 7.7117 - val_mae: 1.7238\n",
            "Epoch 199/500\n",
            "32/32 [==============================] - 0s 3ms/step - loss: 0.6885 - mae: 0.5138 - val_loss: 7.6035 - val_mae: 1.7158\n",
            "Epoch 200/500\n",
            "32/32 [==============================] - 0s 2ms/step - loss: 0.6858 - mae: 0.5125 - val_loss: 7.6583 - val_mae: 1.6709\n",
            "Epoch 201/500\n",
            "32/32 [==============================] - 0s 2ms/step - loss: 0.7082 - mae: 0.5205 - val_loss: 6.6435 - val_mae: 1.6470\n",
            "Epoch 202/500\n",
            "32/32 [==============================] - 0s 3ms/step - loss: 0.7615 - mae: 0.5347 - val_loss: 7.8531 - val_mae: 1.7223\n",
            "Epoch 203/500\n",
            "32/32 [==============================] - 0s 2ms/step - loss: 0.6910 - mae: 0.5342 - val_loss: 9.0179 - val_mae: 1.8389\n",
            "Epoch 204/500\n",
            "32/32 [==============================] - 0s 2ms/step - loss: 0.7567 - mae: 0.5332 - val_loss: 8.0576 - val_mae: 1.7396\n",
            "Epoch 205/500\n",
            "32/32 [==============================] - 0s 2ms/step - loss: 0.7516 - mae: 0.5125 - val_loss: 7.8622 - val_mae: 1.7610\n",
            "Epoch 206/500\n",
            "32/32 [==============================] - 0s 3ms/step - loss: 0.7014 - mae: 0.5300 - val_loss: 7.8614 - val_mae: 1.7868\n",
            "Epoch 207/500\n",
            "32/32 [==============================] - 0s 2ms/step - loss: 0.7006 - mae: 0.5529 - val_loss: 7.5654 - val_mae: 1.7474\n",
            "Epoch 208/500\n",
            "32/32 [==============================] - 0s 2ms/step - loss: 0.7474 - mae: 0.5386 - val_loss: 7.2365 - val_mae: 1.6910\n",
            "Epoch 209/500\n",
            "32/32 [==============================] - 0s 3ms/step - loss: 0.6687 - mae: 0.5243 - val_loss: 7.7724 - val_mae: 1.7787\n",
            "Epoch 210/500\n",
            "32/32 [==============================] - 0s 3ms/step - loss: 0.7261 - mae: 0.5411 - val_loss: 8.2037 - val_mae: 1.8076\n",
            "Epoch 211/500\n",
            "32/32 [==============================] - 0s 2ms/step - loss: 0.7401 - mae: 0.5430 - val_loss: 8.0713 - val_mae: 1.8485\n",
            "Epoch 212/500\n",
            "32/32 [==============================] - 0s 3ms/step - loss: 0.6784 - mae: 0.5142 - val_loss: 7.8947 - val_mae: 1.7458\n",
            "Epoch 213/500\n",
            "32/32 [==============================] - 0s 2ms/step - loss: 0.7174 - mae: 0.5344 - val_loss: 10.3518 - val_mae: 1.9645\n",
            "Epoch 214/500\n",
            "32/32 [==============================] - 0s 2ms/step - loss: 0.6758 - mae: 0.5183 - val_loss: 7.2406 - val_mae: 1.6874\n",
            "Epoch 215/500\n",
            "32/32 [==============================] - 0s 3ms/step - loss: 0.6926 - mae: 0.5194 - val_loss: 7.5771 - val_mae: 1.7415\n",
            "Epoch 216/500\n",
            "32/32 [==============================] - 0s 2ms/step - loss: 0.6941 - mae: 0.4920 - val_loss: 8.8822 - val_mae: 1.8976\n",
            "Epoch 217/500\n",
            "32/32 [==============================] - 0s 2ms/step - loss: 0.8916 - mae: 0.5572 - val_loss: 8.3571 - val_mae: 1.7576\n",
            "Epoch 218/500\n",
            "32/32 [==============================] - 0s 2ms/step - loss: 0.7173 - mae: 0.5415 - val_loss: 8.9416 - val_mae: 1.9183\n",
            "Epoch 219/500\n",
            "32/32 [==============================] - 0s 3ms/step - loss: 0.7343 - mae: 0.5283 - val_loss: 7.8004 - val_mae: 1.7383\n",
            "Epoch 220/500\n",
            "32/32 [==============================] - 0s 2ms/step - loss: 0.7590 - mae: 0.5547 - val_loss: 7.8818 - val_mae: 1.7450\n",
            "Epoch 221/500\n",
            "32/32 [==============================] - 0s 3ms/step - loss: 0.6977 - mae: 0.5164 - val_loss: 9.1830 - val_mae: 1.8633\n",
            "Epoch 222/500\n",
            "32/32 [==============================] - 0s 3ms/step - loss: 0.6013 - mae: 0.4954 - val_loss: 8.2663 - val_mae: 1.7746\n",
            "Epoch 223/500\n",
            "32/32 [==============================] - 0s 2ms/step - loss: 0.6404 - mae: 0.4992 - val_loss: 7.3934 - val_mae: 1.7621\n",
            "Epoch 224/500\n",
            "32/32 [==============================] - 0s 2ms/step - loss: 0.7419 - mae: 0.5162 - val_loss: 9.0508 - val_mae: 1.8662\n",
            "Epoch 225/500\n",
            "32/32 [==============================] - 0s 2ms/step - loss: 0.7820 - mae: 0.5405 - val_loss: 8.0900 - val_mae: 1.8109\n",
            "Epoch 226/500\n",
            "32/32 [==============================] - 0s 2ms/step - loss: 0.6870 - mae: 0.5102 - val_loss: 7.9537 - val_mae: 1.7659\n",
            "Epoch 227/500\n",
            "32/32 [==============================] - 0s 2ms/step - loss: 0.6850 - mae: 0.5254 - val_loss: 7.9744 - val_mae: 1.7766\n",
            "Epoch 228/500\n",
            "32/32 [==============================] - 0s 3ms/step - loss: 0.7352 - mae: 0.5386 - val_loss: 8.5625 - val_mae: 1.8260\n",
            "Epoch 229/500\n",
            "32/32 [==============================] - 0s 2ms/step - loss: 0.7194 - mae: 0.4848 - val_loss: 8.5481 - val_mae: 1.7621\n",
            "Epoch 230/500\n",
            "32/32 [==============================] - 0s 3ms/step - loss: 0.6392 - mae: 0.5275 - val_loss: 9.3602 - val_mae: 1.9415\n",
            "Epoch 231/500\n",
            "32/32 [==============================] - 0s 3ms/step - loss: 0.7539 - mae: 0.5305 - val_loss: 8.2798 - val_mae: 1.7513\n",
            "Epoch 232/500\n",
            "32/32 [==============================] - 0s 2ms/step - loss: 0.6646 - mae: 0.5313 - val_loss: 8.0073 - val_mae: 1.7520\n",
            "Epoch 233/500\n",
            "32/32 [==============================] - 0s 2ms/step - loss: 0.7175 - mae: 0.5058 - val_loss: 8.9840 - val_mae: 1.8389\n",
            "Epoch 234/500\n",
            "32/32 [==============================] - 0s 2ms/step - loss: 0.7178 - mae: 0.5401 - val_loss: 9.1562 - val_mae: 1.8521\n",
            "Epoch 235/500\n",
            "32/32 [==============================] - 0s 2ms/step - loss: 0.6217 - mae: 0.5217 - val_loss: 8.1369 - val_mae: 1.7963\n",
            "Epoch 236/500\n",
            "32/32 [==============================] - 0s 2ms/step - loss: 0.7754 - mae: 0.5413 - val_loss: 9.3050 - val_mae: 1.9067\n",
            "Epoch 237/500\n",
            "32/32 [==============================] - 0s 2ms/step - loss: 0.6663 - mae: 0.5236 - val_loss: 7.8410 - val_mae: 1.7523\n",
            "Epoch 238/500\n",
            "32/32 [==============================] - 0s 2ms/step - loss: 0.6079 - mae: 0.4994 - val_loss: 8.8681 - val_mae: 1.9379\n",
            "Epoch 239/500\n",
            "32/32 [==============================] - 0s 2ms/step - loss: 0.7049 - mae: 0.5380 - val_loss: 8.5637 - val_mae: 1.8263\n",
            "Epoch 240/500\n",
            "32/32 [==============================] - 0s 3ms/step - loss: 0.6755 - mae: 0.5341 - val_loss: 8.5792 - val_mae: 1.8689\n",
            "Epoch 241/500\n",
            "32/32 [==============================] - 0s 2ms/step - loss: 0.7000 - mae: 0.5501 - val_loss: 8.1664 - val_mae: 1.8837\n",
            "Epoch 242/500\n",
            "32/32 [==============================] - 0s 2ms/step - loss: 0.7116 - mae: 0.5332 - val_loss: 8.8046 - val_mae: 1.9181\n",
            "Epoch 243/500\n",
            "32/32 [==============================] - 0s 2ms/step - loss: 0.6284 - mae: 0.4972 - val_loss: 7.0943 - val_mae: 1.7293\n",
            "Epoch 244/500\n",
            "32/32 [==============================] - 0s 2ms/step - loss: 0.7042 - mae: 0.5147 - val_loss: 8.5573 - val_mae: 1.8847\n",
            "Epoch 245/500\n",
            "32/32 [==============================] - 0s 2ms/step - loss: 0.7031 - mae: 0.5306 - val_loss: 8.4236 - val_mae: 1.8581\n",
            "Epoch 246/500\n",
            "32/32 [==============================] - 0s 3ms/step - loss: 0.6489 - mae: 0.5109 - val_loss: 7.2883 - val_mae: 1.6894\n",
            "Epoch 247/500\n",
            "32/32 [==============================] - 0s 3ms/step - loss: 0.7915 - mae: 0.5074 - val_loss: 7.5283 - val_mae: 1.7957\n",
            "Epoch 248/500\n",
            "32/32 [==============================] - 0s 2ms/step - loss: 0.6429 - mae: 0.5329 - val_loss: 7.3671 - val_mae: 1.7280\n",
            "Epoch 249/500\n",
            "32/32 [==============================] - 0s 3ms/step - loss: 0.7187 - mae: 0.5182 - val_loss: 8.4689 - val_mae: 1.8447\n",
            "Epoch 250/500\n",
            "32/32 [==============================] - 0s 2ms/step - loss: 0.6896 - mae: 0.5502 - val_loss: 9.2864 - val_mae: 1.9191\n",
            "Epoch 251/500\n",
            "32/32 [==============================] - 0s 3ms/step - loss: 0.7416 - mae: 0.5382 - val_loss: 8.3640 - val_mae: 1.8934\n",
            "Epoch 252/500\n",
            "32/32 [==============================] - 0s 2ms/step - loss: 0.7025 - mae: 0.5483 - val_loss: 8.7706 - val_mae: 1.8635\n",
            "Epoch 253/500\n",
            "32/32 [==============================] - 0s 2ms/step - loss: 0.6580 - mae: 0.5209 - val_loss: 7.7288 - val_mae: 1.7551\n",
            "Epoch 254/500\n",
            "32/32 [==============================] - 0s 2ms/step - loss: 0.7338 - mae: 0.4980 - val_loss: 7.8104 - val_mae: 1.8207\n",
            "Epoch 255/500\n",
            "32/32 [==============================] - 0s 3ms/step - loss: 0.7251 - mae: 0.5452 - val_loss: 8.2625 - val_mae: 1.7942\n",
            "Epoch 256/500\n",
            "32/32 [==============================] - 0s 2ms/step - loss: 0.6799 - mae: 0.5234 - val_loss: 7.7254 - val_mae: 1.7479\n",
            "Epoch 257/500\n",
            "32/32 [==============================] - 0s 2ms/step - loss: 0.7028 - mae: 0.5144 - val_loss: 8.5436 - val_mae: 1.8796\n",
            "Epoch 258/500\n",
            "32/32 [==============================] - 0s 2ms/step - loss: 0.7323 - mae: 0.5247 - val_loss: 8.3874 - val_mae: 1.8721\n",
            "Epoch 259/500\n",
            "32/32 [==============================] - 0s 3ms/step - loss: 0.7338 - mae: 0.5276 - val_loss: 8.3674 - val_mae: 1.8031\n",
            "Epoch 260/500\n",
            "32/32 [==============================] - 0s 3ms/step - loss: 0.6558 - mae: 0.5084 - val_loss: 9.5736 - val_mae: 2.0255\n",
            "Epoch 261/500\n",
            "32/32 [==============================] - 0s 3ms/step - loss: 0.6862 - mae: 0.5100 - val_loss: 8.0863 - val_mae: 1.7784\n",
            "Epoch 262/500\n",
            "32/32 [==============================] - 0s 2ms/step - loss: 0.7035 - mae: 0.5457 - val_loss: 8.2766 - val_mae: 1.8273\n",
            "Epoch 263/500\n",
            "32/32 [==============================] - 0s 2ms/step - loss: 0.7341 - mae: 0.5060 - val_loss: 8.7990 - val_mae: 1.8188\n",
            "Epoch 264/500\n",
            "32/32 [==============================] - 0s 2ms/step - loss: 0.6634 - mae: 0.5269 - val_loss: 8.6988 - val_mae: 1.8505\n",
            "Epoch 265/500\n",
            "32/32 [==============================] - 0s 2ms/step - loss: 0.6886 - mae: 0.5326 - val_loss: 8.0964 - val_mae: 1.8201\n",
            "Epoch 266/500\n",
            "32/32 [==============================] - 0s 2ms/step - loss: 0.6019 - mae: 0.5008 - val_loss: 12.1178 - val_mae: 2.1342\n",
            "Epoch 267/500\n",
            "32/32 [==============================] - 0s 2ms/step - loss: 0.7423 - mae: 0.5367 - val_loss: 8.9646 - val_mae: 1.7985\n",
            "Epoch 268/500\n",
            "32/32 [==============================] - 0s 3ms/step - loss: 0.7143 - mae: 0.5252 - val_loss: 8.2158 - val_mae: 1.7963\n",
            "Epoch 269/500\n",
            "32/32 [==============================] - 0s 3ms/step - loss: 0.6646 - mae: 0.5100 - val_loss: 9.0271 - val_mae: 1.8786\n",
            "Epoch 270/500\n",
            "32/32 [==============================] - 0s 3ms/step - loss: 0.7295 - mae: 0.5372 - val_loss: 10.3997 - val_mae: 2.0569\n",
            "Epoch 271/500\n",
            "32/32 [==============================] - 0s 2ms/step - loss: 0.7208 - mae: 0.5228 - val_loss: 8.6614 - val_mae: 1.8649\n",
            "Epoch 272/500\n",
            "32/32 [==============================] - 0s 2ms/step - loss: 0.6994 - mae: 0.5086 - val_loss: 9.2192 - val_mae: 1.9150\n",
            "Epoch 273/500\n",
            "32/32 [==============================] - 0s 2ms/step - loss: 0.7260 - mae: 0.5491 - val_loss: 7.6390 - val_mae: 1.7782\n",
            "Epoch 274/500\n",
            "32/32 [==============================] - 0s 3ms/step - loss: 0.6760 - mae: 0.5261 - val_loss: 8.6858 - val_mae: 1.8422\n",
            "Epoch 275/500\n",
            "32/32 [==============================] - 0s 3ms/step - loss: 0.7283 - mae: 0.5239 - val_loss: 9.1528 - val_mae: 1.8055\n",
            "Epoch 276/500\n",
            "32/32 [==============================] - 0s 2ms/step - loss: 0.6681 - mae: 0.4910 - val_loss: 9.7896 - val_mae: 1.9415\n",
            "Epoch 277/500\n",
            "32/32 [==============================] - 0s 3ms/step - loss: 0.6804 - mae: 0.5261 - val_loss: 9.4925 - val_mae: 1.8848\n",
            "Epoch 278/500\n",
            "32/32 [==============================] - 0s 3ms/step - loss: 0.6639 - mae: 0.5123 - val_loss: 8.2720 - val_mae: 1.7999\n",
            "Epoch 279/500\n",
            "32/32 [==============================] - 0s 3ms/step - loss: 0.8138 - mae: 0.5168 - val_loss: 8.5361 - val_mae: 1.8699\n",
            "Epoch 280/500\n",
            "32/32 [==============================] - 0s 3ms/step - loss: 0.6488 - mae: 0.5082 - val_loss: 8.6505 - val_mae: 1.8356\n",
            "Epoch 281/500\n",
            "32/32 [==============================] - 0s 3ms/step - loss: 0.6750 - mae: 0.5229 - val_loss: 8.8028 - val_mae: 1.8478\n",
            "Epoch 282/500\n",
            "32/32 [==============================] - 0s 3ms/step - loss: 0.6633 - mae: 0.5496 - val_loss: 7.8968 - val_mae: 1.8305\n",
            "Epoch 283/500\n",
            "32/32 [==============================] - 0s 3ms/step - loss: 0.7221 - mae: 0.5504 - val_loss: 8.5230 - val_mae: 1.8354\n",
            "Epoch 284/500\n",
            "32/32 [==============================] - 0s 3ms/step - loss: 0.7092 - mae: 0.4950 - val_loss: 7.8383 - val_mae: 1.8575\n",
            "Epoch 285/500\n",
            "32/32 [==============================] - 0s 3ms/step - loss: 0.6489 - mae: 0.5457 - val_loss: 8.5529 - val_mae: 1.8157\n",
            "Epoch 286/500\n",
            "32/32 [==============================] - 0s 3ms/step - loss: 0.6822 - mae: 0.5272 - val_loss: 9.3921 - val_mae: 1.8945\n",
            "Epoch 287/500\n",
            "32/32 [==============================] - 0s 3ms/step - loss: 0.6625 - mae: 0.5169 - val_loss: 10.1332 - val_mae: 1.9333\n",
            "Epoch 288/500\n",
            "32/32 [==============================] - 0s 3ms/step - loss: 0.6692 - mae: 0.5214 - val_loss: 9.3904 - val_mae: 1.8402\n",
            "Epoch 289/500\n",
            "32/32 [==============================] - 0s 3ms/step - loss: 0.7152 - mae: 0.5163 - val_loss: 9.7885 - val_mae: 2.0080\n",
            "Epoch 290/500\n",
            "32/32 [==============================] - 0s 3ms/step - loss: 0.6809 - mae: 0.5110 - val_loss: 8.6256 - val_mae: 1.8390\n",
            "Epoch 291/500\n",
            "32/32 [==============================] - 0s 3ms/step - loss: 0.7188 - mae: 0.5237 - val_loss: 9.3748 - val_mae: 1.8820\n",
            "Epoch 292/500\n",
            "32/32 [==============================] - 0s 3ms/step - loss: 0.6856 - mae: 0.5259 - val_loss: 8.9506 - val_mae: 1.8556\n",
            "Epoch 293/500\n",
            "32/32 [==============================] - 0s 3ms/step - loss: 0.6660 - mae: 0.5156 - val_loss: 11.1126 - val_mae: 2.0065\n",
            "Epoch 294/500\n",
            "32/32 [==============================] - 0s 3ms/step - loss: 0.7069 - mae: 0.5052 - val_loss: 8.8459 - val_mae: 1.8572\n",
            "Epoch 295/500\n",
            "32/32 [==============================] - 0s 3ms/step - loss: 0.7081 - mae: 0.5365 - val_loss: 7.9779 - val_mae: 1.7505\n",
            "Epoch 296/500\n",
            "32/32 [==============================] - 0s 3ms/step - loss: 0.6750 - mae: 0.5136 - val_loss: 7.9720 - val_mae: 1.8077\n",
            "Epoch 297/500\n",
            "32/32 [==============================] - 0s 3ms/step - loss: 0.6488 - mae: 0.5074 - val_loss: 7.4061 - val_mae: 1.7821\n",
            "Epoch 298/500\n",
            "32/32 [==============================] - 0s 3ms/step - loss: 0.7189 - mae: 0.5322 - val_loss: 9.6000 - val_mae: 1.9549\n",
            "Epoch 299/500\n",
            "32/32 [==============================] - 0s 3ms/step - loss: 0.6026 - mae: 0.5082 - val_loss: 9.3872 - val_mae: 1.9151\n",
            "Epoch 300/500\n",
            "32/32 [==============================] - 0s 2ms/step - loss: 0.7721 - mae: 0.5123 - val_loss: 8.4640 - val_mae: 1.8738\n",
            "Epoch 301/500\n",
            "32/32 [==============================] - 0s 3ms/step - loss: 0.6988 - mae: 0.5008 - val_loss: 7.8546 - val_mae: 1.7690\n",
            "Epoch 302/500\n",
            "32/32 [==============================] - 0s 3ms/step - loss: 0.6575 - mae: 0.5405 - val_loss: 10.3609 - val_mae: 1.9848\n",
            "Epoch 303/500\n",
            "32/32 [==============================] - 0s 3ms/step - loss: 0.6375 - mae: 0.5009 - val_loss: 9.9549 - val_mae: 1.9885\n",
            "Epoch 304/500\n",
            "32/32 [==============================] - 0s 3ms/step - loss: 0.7110 - mae: 0.5486 - val_loss: 9.2363 - val_mae: 1.9073\n",
            "Epoch 305/500\n",
            "32/32 [==============================] - 0s 3ms/step - loss: 0.7079 - mae: 0.4984 - val_loss: 8.7767 - val_mae: 1.8574\n",
            "Epoch 306/500\n",
            "32/32 [==============================] - 0s 3ms/step - loss: 0.7769 - mae: 0.5249 - val_loss: 9.3530 - val_mae: 1.8784\n",
            "Epoch 307/500\n",
            "32/32 [==============================] - 0s 3ms/step - loss: 0.6241 - mae: 0.5227 - val_loss: 7.5813 - val_mae: 1.7144\n",
            "Epoch 308/500\n",
            "32/32 [==============================] - 0s 3ms/step - loss: 0.7472 - mae: 0.5155 - val_loss: 8.8424 - val_mae: 1.8072\n",
            "Epoch 309/500\n",
            "32/32 [==============================] - 0s 3ms/step - loss: 0.7029 - mae: 0.5235 - val_loss: 8.6835 - val_mae: 1.8875\n",
            "Epoch 310/500\n",
            "32/32 [==============================] - 0s 3ms/step - loss: 0.7159 - mae: 0.5413 - val_loss: 8.7567 - val_mae: 1.8291\n",
            "Epoch 311/500\n",
            "32/32 [==============================] - 0s 3ms/step - loss: 0.5960 - mae: 0.5016 - val_loss: 7.5022 - val_mae: 1.6727\n",
            "Epoch 312/500\n",
            "32/32 [==============================] - 0s 2ms/step - loss: 0.7479 - mae: 0.5263 - val_loss: 8.4275 - val_mae: 1.8473\n",
            "Epoch 313/500\n",
            "32/32 [==============================] - 0s 3ms/step - loss: 0.6167 - mae: 0.5303 - val_loss: 8.9376 - val_mae: 1.8772\n",
            "Epoch 314/500\n",
            "32/32 [==============================] - 0s 2ms/step - loss: 0.6442 - mae: 0.5192 - val_loss: 8.7140 - val_mae: 1.8943\n",
            "Epoch 315/500\n",
            "32/32 [==============================] - 0s 3ms/step - loss: 0.6247 - mae: 0.5280 - val_loss: 7.9951 - val_mae: 1.7970\n",
            "Epoch 316/500\n",
            "32/32 [==============================] - 0s 2ms/step - loss: 0.6873 - mae: 0.5236 - val_loss: 8.3623 - val_mae: 1.7672\n",
            "Epoch 317/500\n",
            "32/32 [==============================] - 0s 3ms/step - loss: 0.7001 - mae: 0.4816 - val_loss: 8.2257 - val_mae: 1.8098\n",
            "Epoch 318/500\n",
            "32/32 [==============================] - 0s 3ms/step - loss: 0.6840 - mae: 0.5252 - val_loss: 7.6238 - val_mae: 1.7636\n",
            "Epoch 319/500\n",
            "32/32 [==============================] - 0s 3ms/step - loss: 0.6607 - mae: 0.4902 - val_loss: 7.6294 - val_mae: 1.7467\n",
            "Epoch 320/500\n",
            "32/32 [==============================] - 0s 3ms/step - loss: 0.6533 - mae: 0.5066 - val_loss: 9.2320 - val_mae: 1.9509\n",
            "Epoch 321/500\n",
            "32/32 [==============================] - 0s 3ms/step - loss: 0.7000 - mae: 0.5210 - val_loss: 7.4657 - val_mae: 1.7908\n",
            "Epoch 322/500\n",
            "32/32 [==============================] - 0s 3ms/step - loss: 0.7499 - mae: 0.5285 - val_loss: 8.9582 - val_mae: 1.9162\n",
            "Epoch 323/500\n",
            "32/32 [==============================] - 0s 3ms/step - loss: 0.6213 - mae: 0.5116 - val_loss: 9.1169 - val_mae: 1.9272\n",
            "Epoch 324/500\n",
            "32/32 [==============================] - 0s 3ms/step - loss: 0.6954 - mae: 0.5207 - val_loss: 8.7468 - val_mae: 1.8375\n",
            "Epoch 325/500\n",
            "32/32 [==============================] - 0s 3ms/step - loss: 0.6820 - mae: 0.4885 - val_loss: 8.7007 - val_mae: 1.8494\n",
            "Epoch 326/500\n",
            "32/32 [==============================] - 0s 3ms/step - loss: 0.7413 - mae: 0.5193 - val_loss: 8.4119 - val_mae: 1.7887\n",
            "Epoch 327/500\n",
            "32/32 [==============================] - 0s 3ms/step - loss: 0.7165 - mae: 0.5288 - val_loss: 7.8850 - val_mae: 1.8309\n",
            "Epoch 328/500\n",
            "32/32 [==============================] - 0s 3ms/step - loss: 0.6849 - mae: 0.5154 - val_loss: 8.2460 - val_mae: 1.8103\n",
            "Epoch 329/500\n",
            "32/32 [==============================] - 0s 3ms/step - loss: 0.7214 - mae: 0.5229 - val_loss: 8.8351 - val_mae: 1.8598\n",
            "Epoch 330/500\n",
            "32/32 [==============================] - 0s 3ms/step - loss: 1.2477 - mae: 0.4970 - val_loss: 10.2350 - val_mae: 2.0152\n",
            "Epoch 331/500\n",
            "32/32 [==============================] - 0s 2ms/step - loss: 0.6507 - mae: 0.4897 - val_loss: 8.3791 - val_mae: 1.8299\n",
            "Epoch 332/500\n",
            "32/32 [==============================] - 0s 3ms/step - loss: 0.6486 - mae: 0.5151 - val_loss: 8.6020 - val_mae: 1.8408\n",
            "Epoch 333/500\n",
            "32/32 [==============================] - 0s 3ms/step - loss: 0.6972 - mae: 0.5012 - val_loss: 8.3957 - val_mae: 1.7911\n",
            "Epoch 334/500\n",
            "32/32 [==============================] - 0s 3ms/step - loss: 0.7880 - mae: 0.5278 - val_loss: 9.4684 - val_mae: 1.9544\n",
            "Epoch 335/500\n",
            "32/32 [==============================] - 0s 3ms/step - loss: 0.7054 - mae: 0.5653 - val_loss: 8.4936 - val_mae: 1.8625\n",
            "Epoch 336/500\n",
            "32/32 [==============================] - 0s 3ms/step - loss: 0.7087 - mae: 0.5115 - val_loss: 7.7436 - val_mae: 1.7744\n",
            "Epoch 337/500\n",
            "32/32 [==============================] - 0s 3ms/step - loss: 0.7022 - mae: 0.5262 - val_loss: 8.6124 - val_mae: 1.8385\n",
            "Epoch 338/500\n",
            "32/32 [==============================] - 0s 2ms/step - loss: 0.5990 - mae: 0.5195 - val_loss: 9.3439 - val_mae: 1.9283\n",
            "Epoch 339/500\n",
            "32/32 [==============================] - 0s 3ms/step - loss: 0.6518 - mae: 0.5247 - val_loss: 8.9367 - val_mae: 1.8708\n",
            "Epoch 340/500\n",
            "32/32 [==============================] - 0s 3ms/step - loss: 0.7062 - mae: 0.5459 - val_loss: 8.2301 - val_mae: 1.8243\n",
            "Epoch 341/500\n",
            "32/32 [==============================] - 0s 2ms/step - loss: 0.6260 - mae: 0.5004 - val_loss: 9.8941 - val_mae: 1.9807\n",
            "Epoch 342/500\n",
            "32/32 [==============================] - 0s 3ms/step - loss: 0.6340 - mae: 0.5050 - val_loss: 8.9041 - val_mae: 1.8729\n",
            "Epoch 343/500\n",
            "32/32 [==============================] - 0s 2ms/step - loss: 0.6662 - mae: 0.5207 - val_loss: 8.8412 - val_mae: 1.9645\n",
            "Epoch 344/500\n",
            "32/32 [==============================] - 0s 3ms/step - loss: 0.6987 - mae: 0.5236 - val_loss: 8.9002 - val_mae: 1.8621\n",
            "Epoch 345/500\n",
            "32/32 [==============================] - 0s 2ms/step - loss: 0.6594 - mae: 0.5254 - val_loss: 8.9453 - val_mae: 1.9049\n",
            "Epoch 346/500\n",
            "32/32 [==============================] - 0s 2ms/step - loss: 0.8132 - mae: 0.5173 - val_loss: 8.8585 - val_mae: 1.9045\n",
            "Epoch 347/500\n",
            "32/32 [==============================] - 0s 2ms/step - loss: 0.5780 - mae: 0.4987 - val_loss: 8.6484 - val_mae: 1.9171\n",
            "Epoch 348/500\n",
            "32/32 [==============================] - 0s 3ms/step - loss: 0.6583 - mae: 0.5105 - val_loss: 8.6445 - val_mae: 1.8723\n",
            "Epoch 349/500\n",
            "32/32 [==============================] - 0s 3ms/step - loss: 0.6783 - mae: 0.4930 - val_loss: 8.1524 - val_mae: 1.8475\n",
            "Epoch 350/500\n",
            "32/32 [==============================] - 0s 2ms/step - loss: 0.6967 - mae: 0.5290 - val_loss: 9.2287 - val_mae: 1.9843\n",
            "Epoch 351/500\n",
            "32/32 [==============================] - 0s 2ms/step - loss: 0.6280 - mae: 0.5263 - val_loss: 9.4805 - val_mae: 1.9388\n",
            "Epoch 352/500\n",
            "32/32 [==============================] - 0s 2ms/step - loss: 0.7340 - mae: 0.5175 - val_loss: 8.9694 - val_mae: 1.8237\n",
            "Epoch 353/500\n",
            "32/32 [==============================] - 0s 3ms/step - loss: 0.7175 - mae: 0.5223 - val_loss: 8.3142 - val_mae: 1.8170\n",
            "Epoch 354/500\n",
            "32/32 [==============================] - 0s 2ms/step - loss: 0.5581 - mae: 0.4922 - val_loss: 7.8627 - val_mae: 1.7865\n",
            "Epoch 355/500\n",
            "32/32 [==============================] - 0s 2ms/step - loss: 0.6568 - mae: 0.5104 - val_loss: 9.1033 - val_mae: 1.9410\n",
            "Epoch 356/500\n",
            "32/32 [==============================] - 0s 2ms/step - loss: 0.6934 - mae: 0.4853 - val_loss: 8.2387 - val_mae: 1.8545\n",
            "Epoch 357/500\n",
            "32/32 [==============================] - 0s 2ms/step - loss: 0.7332 - mae: 0.5545 - val_loss: 8.4553 - val_mae: 1.8486\n",
            "Epoch 358/500\n",
            "32/32 [==============================] - 0s 2ms/step - loss: 0.7346 - mae: 0.5225 - val_loss: 8.8033 - val_mae: 1.8602\n",
            "Epoch 359/500\n",
            "32/32 [==============================] - 0s 3ms/step - loss: 0.5563 - mae: 0.4851 - val_loss: 7.5913 - val_mae: 1.7692\n",
            "Epoch 360/500\n",
            "32/32 [==============================] - 0s 2ms/step - loss: 0.6719 - mae: 0.5433 - val_loss: 8.2228 - val_mae: 1.8566\n",
            "Epoch 361/500\n",
            "32/32 [==============================] - 0s 2ms/step - loss: 0.6889 - mae: 0.5492 - val_loss: 11.3559 - val_mae: 2.0785\n",
            "Epoch 362/500\n",
            "32/32 [==============================] - 0s 3ms/step - loss: 0.7564 - mae: 0.5209 - val_loss: 9.3089 - val_mae: 1.8848\n",
            "Epoch 363/500\n",
            "32/32 [==============================] - 0s 2ms/step - loss: 0.6593 - mae: 0.4807 - val_loss: 10.6376 - val_mae: 1.9770\n",
            "Epoch 364/500\n",
            "32/32 [==============================] - 0s 2ms/step - loss: 0.7738 - mae: 0.4871 - val_loss: 9.6685 - val_mae: 1.9606\n",
            "Epoch 365/500\n",
            "32/32 [==============================] - 0s 2ms/step - loss: 0.9421 - mae: 0.5072 - val_loss: 12.6513 - val_mae: 2.2819\n",
            "Epoch 366/500\n",
            "32/32 [==============================] - 0s 2ms/step - loss: 0.6955 - mae: 0.5025 - val_loss: 6.9835 - val_mae: 1.7476\n",
            "Epoch 367/500\n",
            "32/32 [==============================] - 0s 2ms/step - loss: 0.7224 - mae: 0.5028 - val_loss: 8.1346 - val_mae: 1.8058\n",
            "Epoch 368/500\n",
            "32/32 [==============================] - 0s 2ms/step - loss: 0.6181 - mae: 0.4977 - val_loss: 8.1010 - val_mae: 1.9117\n",
            "Epoch 369/500\n",
            "32/32 [==============================] - 0s 2ms/step - loss: 0.7484 - mae: 0.5146 - val_loss: 8.6051 - val_mae: 1.9126\n",
            "Epoch 370/500\n",
            "32/32 [==============================] - 0s 3ms/step - loss: 0.8269 - mae: 0.5212 - val_loss: 9.0694 - val_mae: 1.8452\n",
            "Epoch 371/500\n",
            "32/32 [==============================] - 0s 2ms/step - loss: 0.6064 - mae: 0.4997 - val_loss: 8.4153 - val_mae: 1.8401\n",
            "Epoch 372/500\n",
            "32/32 [==============================] - 0s 3ms/step - loss: 0.6268 - mae: 0.5098 - val_loss: 8.9718 - val_mae: 1.8253\n",
            "Epoch 373/500\n",
            "32/32 [==============================] - 0s 2ms/step - loss: 0.6755 - mae: 0.5230 - val_loss: 10.1862 - val_mae: 2.0093\n",
            "Epoch 374/500\n",
            "32/32 [==============================] - 0s 2ms/step - loss: 0.6848 - mae: 0.5559 - val_loss: 7.9086 - val_mae: 1.7711\n",
            "Epoch 375/500\n",
            "32/32 [==============================] - 0s 2ms/step - loss: 0.6104 - mae: 0.4868 - val_loss: 8.4239 - val_mae: 1.8470\n",
            "Epoch 376/500\n",
            "32/32 [==============================] - 0s 3ms/step - loss: 0.7518 - mae: 0.5339 - val_loss: 9.4431 - val_mae: 1.8973\n",
            "Epoch 377/500\n",
            "32/32 [==============================] - 0s 2ms/step - loss: 0.5858 - mae: 0.4708 - val_loss: 8.1256 - val_mae: 1.7888\n",
            "Epoch 378/500\n",
            "32/32 [==============================] - 0s 2ms/step - loss: 0.6587 - mae: 0.5171 - val_loss: 9.0401 - val_mae: 1.9319\n",
            "Epoch 379/500\n",
            "32/32 [==============================] - 0s 3ms/step - loss: 0.7532 - mae: 0.5388 - val_loss: 7.5759 - val_mae: 1.7624\n",
            "Epoch 380/500\n",
            "32/32 [==============================] - 0s 2ms/step - loss: 0.6245 - mae: 0.5053 - val_loss: 9.2465 - val_mae: 1.8408\n",
            "Epoch 381/500\n",
            "32/32 [==============================] - 0s 3ms/step - loss: 0.6691 - mae: 0.5294 - val_loss: 10.3704 - val_mae: 2.0509\n",
            "Epoch 382/500\n",
            "32/32 [==============================] - 0s 2ms/step - loss: 0.6405 - mae: 0.5243 - val_loss: 8.3899 - val_mae: 1.8657\n",
            "Epoch 383/500\n",
            "32/32 [==============================] - 0s 2ms/step - loss: 0.7166 - mae: 0.4954 - val_loss: 9.0608 - val_mae: 1.9834\n",
            "Epoch 384/500\n",
            "32/32 [==============================] - 0s 3ms/step - loss: 0.6679 - mae: 0.5229 - val_loss: 8.0409 - val_mae: 1.8057\n",
            "Epoch 385/500\n",
            "32/32 [==============================] - 0s 2ms/step - loss: 0.7912 - mae: 0.5287 - val_loss: 8.4482 - val_mae: 1.8241\n",
            "Epoch 386/500\n",
            "32/32 [==============================] - 0s 3ms/step - loss: 0.5854 - mae: 0.4902 - val_loss: 8.3917 - val_mae: 1.8618\n",
            "Epoch 387/500\n",
            "32/32 [==============================] - 0s 2ms/step - loss: 0.6134 - mae: 0.5175 - val_loss: 7.7218 - val_mae: 1.8087\n",
            "Epoch 388/500\n",
            "32/32 [==============================] - 0s 3ms/step - loss: 0.6763 - mae: 0.5372 - val_loss: 8.8301 - val_mae: 1.9034\n",
            "Epoch 389/500\n",
            "32/32 [==============================] - 0s 2ms/step - loss: 0.5941 - mae: 0.5043 - val_loss: 9.1988 - val_mae: 1.9043\n",
            "Epoch 390/500\n",
            "32/32 [==============================] - 0s 2ms/step - loss: 0.7105 - mae: 0.5665 - val_loss: 8.1921 - val_mae: 1.8238\n",
            "Epoch 391/500\n",
            "32/32 [==============================] - 0s 3ms/step - loss: 0.6902 - mae: 0.5085 - val_loss: 9.4962 - val_mae: 1.9643\n",
            "Epoch 392/500\n",
            "32/32 [==============================] - 0s 2ms/step - loss: 0.6893 - mae: 0.5481 - val_loss: 7.7807 - val_mae: 1.7658\n",
            "Epoch 393/500\n",
            "32/32 [==============================] - 0s 2ms/step - loss: 0.5687 - mae: 0.4781 - val_loss: 9.7621 - val_mae: 1.9481\n",
            "Epoch 394/500\n",
            "32/32 [==============================] - 0s 2ms/step - loss: 0.6890 - mae: 0.5219 - val_loss: 8.8547 - val_mae: 1.8735\n",
            "Epoch 395/500\n",
            "32/32 [==============================] - 0s 2ms/step - loss: 0.7288 - mae: 0.5357 - val_loss: 10.9823 - val_mae: 2.1226\n",
            "Epoch 396/500\n",
            "32/32 [==============================] - 0s 3ms/step - loss: 0.5836 - mae: 0.4828 - val_loss: 9.4675 - val_mae: 1.9466\n",
            "Epoch 397/500\n",
            "32/32 [==============================] - 0s 2ms/step - loss: 0.6182 - mae: 0.5101 - val_loss: 8.0680 - val_mae: 1.8533\n",
            "Epoch 398/500\n",
            "32/32 [==============================] - 0s 2ms/step - loss: 0.6579 - mae: 0.5162 - val_loss: 8.8166 - val_mae: 1.9292\n",
            "Epoch 399/500\n",
            "32/32 [==============================] - 0s 3ms/step - loss: 0.6395 - mae: 0.5178 - val_loss: 8.4687 - val_mae: 1.9075\n",
            "Epoch 400/500\n",
            "32/32 [==============================] - 0s 3ms/step - loss: 0.6588 - mae: 0.5101 - val_loss: 10.5367 - val_mae: 2.0262\n",
            "Epoch 401/500\n",
            "32/32 [==============================] - 0s 2ms/step - loss: 0.5568 - mae: 0.4933 - val_loss: 11.1546 - val_mae: 2.1020\n",
            "Epoch 402/500\n",
            "32/32 [==============================] - 0s 2ms/step - loss: 0.6251 - mae: 0.5239 - val_loss: 8.3699 - val_mae: 1.8793\n",
            "Epoch 403/500\n",
            "32/32 [==============================] - 0s 2ms/step - loss: 0.6029 - mae: 0.5020 - val_loss: 8.7459 - val_mae: 1.9223\n",
            "Epoch 404/500\n",
            "32/32 [==============================] - 0s 2ms/step - loss: 0.6939 - mae: 0.5452 - val_loss: 10.4445 - val_mae: 2.0625\n",
            "Epoch 405/500\n",
            "32/32 [==============================] - 0s 2ms/step - loss: 0.6930 - mae: 0.5031 - val_loss: 9.0795 - val_mae: 1.9187\n",
            "Epoch 406/500\n",
            "32/32 [==============================] - 0s 2ms/step - loss: 0.6526 - mae: 0.5199 - val_loss: 8.4623 - val_mae: 1.8281\n",
            "Epoch 407/500\n",
            "32/32 [==============================] - 0s 2ms/step - loss: 0.7460 - mae: 0.5340 - val_loss: 8.1343 - val_mae: 1.8162\n",
            "Epoch 408/500\n",
            "32/32 [==============================] - 0s 2ms/step - loss: 0.6960 - mae: 0.4932 - val_loss: 8.2840 - val_mae: 1.8130\n",
            "Epoch 409/500\n",
            "32/32 [==============================] - 0s 3ms/step - loss: 0.6603 - mae: 0.5091 - val_loss: 9.8792 - val_mae: 2.0280\n",
            "Epoch 410/500\n",
            "32/32 [==============================] - 0s 2ms/step - loss: 0.6974 - mae: 0.5261 - val_loss: 9.7399 - val_mae: 1.9185\n",
            "Epoch 411/500\n",
            "32/32 [==============================] - 0s 3ms/step - loss: 0.6098 - mae: 0.5198 - val_loss: 9.1179 - val_mae: 1.8302\n",
            "Epoch 412/500\n",
            "32/32 [==============================] - 0s 2ms/step - loss: 0.7719 - mae: 0.5027 - val_loss: 9.6557 - val_mae: 1.9788\n",
            "Epoch 413/500\n",
            "32/32 [==============================] - 0s 2ms/step - loss: 0.6887 - mae: 0.4947 - val_loss: 9.4369 - val_mae: 1.9443\n",
            "Epoch 414/500\n",
            "32/32 [==============================] - 0s 2ms/step - loss: 0.6728 - mae: 0.5327 - val_loss: 10.2156 - val_mae: 2.0208\n",
            "Epoch 415/500\n",
            "32/32 [==============================] - 0s 2ms/step - loss: 0.5774 - mae: 0.4937 - val_loss: 8.2036 - val_mae: 1.8115\n",
            "Epoch 416/500\n",
            "32/32 [==============================] - 0s 2ms/step - loss: 0.7090 - mae: 0.5455 - val_loss: 10.1658 - val_mae: 1.9835\n",
            "Epoch 417/500\n",
            "32/32 [==============================] - 0s 3ms/step - loss: 0.5698 - mae: 0.4910 - val_loss: 8.2930 - val_mae: 1.9094\n",
            "Epoch 418/500\n",
            "32/32 [==============================] - 0s 3ms/step - loss: 0.6244 - mae: 0.4921 - val_loss: 10.0147 - val_mae: 1.9369\n",
            "Epoch 419/500\n",
            "32/32 [==============================] - 0s 3ms/step - loss: 0.5734 - mae: 0.4897 - val_loss: 10.0159 - val_mae: 1.9465\n",
            "Epoch 420/500\n",
            "32/32 [==============================] - 0s 2ms/step - loss: 0.6673 - mae: 0.5208 - val_loss: 8.1091 - val_mae: 1.8265\n",
            "Epoch 421/500\n",
            "32/32 [==============================] - 0s 2ms/step - loss: 0.7240 - mae: 0.5466 - val_loss: 8.3847 - val_mae: 1.8159\n",
            "Epoch 422/500\n",
            "32/32 [==============================] - 0s 2ms/step - loss: 0.5832 - mae: 0.4920 - val_loss: 8.4372 - val_mae: 1.8810\n",
            "Epoch 423/500\n",
            "32/32 [==============================] - 0s 3ms/step - loss: 0.6692 - mae: 0.5167 - val_loss: 9.7855 - val_mae: 2.0100\n",
            "Epoch 424/500\n",
            "32/32 [==============================] - 0s 3ms/step - loss: 0.7042 - mae: 0.5463 - val_loss: 9.7098 - val_mae: 1.9499\n",
            "Epoch 425/500\n",
            "32/32 [==============================] - 0s 2ms/step - loss: 0.6768 - mae: 0.4958 - val_loss: 9.1634 - val_mae: 1.9280\n",
            "Epoch 426/500\n",
            "32/32 [==============================] - 0s 2ms/step - loss: 0.7426 - mae: 0.5375 - val_loss: 8.7585 - val_mae: 1.8708\n",
            "Epoch 427/500\n",
            "32/32 [==============================] - 0s 2ms/step - loss: 0.6134 - mae: 0.4986 - val_loss: 9.1219 - val_mae: 1.8919\n",
            "Epoch 428/500\n",
            "32/32 [==============================] - 0s 3ms/step - loss: 0.7342 - mae: 0.5168 - val_loss: 9.2591 - val_mae: 1.8487\n",
            "Epoch 429/500\n",
            "32/32 [==============================] - 0s 2ms/step - loss: 0.6030 - mae: 0.5123 - val_loss: 9.0763 - val_mae: 1.8749\n",
            "Epoch 430/500\n",
            "32/32 [==============================] - 0s 3ms/step - loss: 0.6899 - mae: 0.5216 - val_loss: 8.3289 - val_mae: 1.7906\n",
            "Epoch 431/500\n",
            "32/32 [==============================] - 0s 2ms/step - loss: 0.5940 - mae: 0.5006 - val_loss: 8.2604 - val_mae: 1.8239\n",
            "Epoch 432/500\n",
            "32/32 [==============================] - 0s 3ms/step - loss: 0.6641 - mae: 0.5317 - val_loss: 9.1534 - val_mae: 1.9325\n",
            "Epoch 433/500\n",
            "32/32 [==============================] - 0s 2ms/step - loss: 0.6683 - mae: 0.4895 - val_loss: 8.6311 - val_mae: 1.8076\n",
            "Epoch 434/500\n",
            "32/32 [==============================] - 0s 2ms/step - loss: 0.6021 - mae: 0.4627 - val_loss: 8.0062 - val_mae: 1.8055\n",
            "Epoch 435/500\n",
            "32/32 [==============================] - 0s 2ms/step - loss: 0.5621 - mae: 0.5106 - val_loss: 10.0704 - val_mae: 1.8989\n",
            "Epoch 436/500\n",
            "32/32 [==============================] - 0s 2ms/step - loss: 0.5844 - mae: 0.5343 - val_loss: 8.9437 - val_mae: 1.8614\n",
            "Epoch 437/500\n",
            "32/32 [==============================] - 0s 2ms/step - loss: 0.6783 - mae: 0.4976 - val_loss: 8.7005 - val_mae: 1.9079\n",
            "Epoch 438/500\n",
            "32/32 [==============================] - 0s 3ms/step - loss: 0.6090 - mae: 0.4902 - val_loss: 8.8300 - val_mae: 1.8959\n",
            "Epoch 439/500\n",
            "32/32 [==============================] - 0s 3ms/step - loss: 0.6522 - mae: 0.5412 - val_loss: 8.4499 - val_mae: 1.8585\n",
            "Epoch 440/500\n",
            "32/32 [==============================] - 0s 2ms/step - loss: 0.7437 - mae: 0.4765 - val_loss: 8.7268 - val_mae: 1.8695\n",
            "Epoch 441/500\n",
            "32/32 [==============================] - 0s 2ms/step - loss: 0.6320 - mae: 0.5109 - val_loss: 8.8372 - val_mae: 1.9031\n",
            "Epoch 442/500\n",
            "32/32 [==============================] - 0s 3ms/step - loss: 0.6933 - mae: 0.5197 - val_loss: 9.1245 - val_mae: 1.8951\n",
            "Epoch 443/500\n",
            "32/32 [==============================] - 0s 2ms/step - loss: 0.6084 - mae: 0.4971 - val_loss: 9.0252 - val_mae: 1.8637\n",
            "Epoch 444/500\n",
            "32/32 [==============================] - 0s 2ms/step - loss: 0.6272 - mae: 0.4968 - val_loss: 11.7078 - val_mae: 2.0852\n",
            "Epoch 445/500\n",
            "32/32 [==============================] - 0s 2ms/step - loss: 0.6415 - mae: 0.5170 - val_loss: 8.7820 - val_mae: 1.9245\n",
            "Epoch 446/500\n",
            "32/32 [==============================] - 0s 2ms/step - loss: 0.6883 - mae: 0.5144 - val_loss: 8.6615 - val_mae: 1.8296\n",
            "Epoch 447/500\n",
            "32/32 [==============================] - 0s 3ms/step - loss: 0.6340 - mae: 0.5245 - val_loss: 7.3097 - val_mae: 1.7305\n",
            "Epoch 448/500\n",
            "32/32 [==============================] - 0s 3ms/step - loss: 0.6186 - mae: 0.5162 - val_loss: 8.7968 - val_mae: 1.8640\n",
            "Epoch 449/500\n",
            "32/32 [==============================] - 0s 2ms/step - loss: 0.7150 - mae: 0.5210 - val_loss: 8.4433 - val_mae: 1.8235\n",
            "Epoch 450/500\n",
            "32/32 [==============================] - 0s 2ms/step - loss: 0.7185 - mae: 0.4890 - val_loss: 8.6877 - val_mae: 1.8865\n",
            "Epoch 451/500\n",
            "32/32 [==============================] - 0s 2ms/step - loss: 0.6140 - mae: 0.5024 - val_loss: 8.3963 - val_mae: 1.8889\n",
            "Epoch 452/500\n",
            "32/32 [==============================] - 0s 2ms/step - loss: 0.6863 - mae: 0.5121 - val_loss: 9.0785 - val_mae: 1.8955\n",
            "Epoch 453/500\n",
            "32/32 [==============================] - 0s 2ms/step - loss: 0.5773 - mae: 0.4829 - val_loss: 8.9085 - val_mae: 1.8400\n",
            "Epoch 454/500\n",
            "32/32 [==============================] - 0s 2ms/step - loss: 0.7563 - mae: 0.5350 - val_loss: 10.2280 - val_mae: 1.9489\n",
            "Epoch 455/500\n",
            "32/32 [==============================] - 0s 2ms/step - loss: 0.6215 - mae: 0.4807 - val_loss: 8.6212 - val_mae: 1.8507\n",
            "Epoch 456/500\n",
            "32/32 [==============================] - 0s 3ms/step - loss: 0.6762 - mae: 0.5373 - val_loss: 8.8905 - val_mae: 1.9112\n",
            "Epoch 457/500\n",
            "32/32 [==============================] - 0s 2ms/step - loss: 0.6804 - mae: 0.5018 - val_loss: 8.4872 - val_mae: 1.9193\n",
            "Epoch 458/500\n",
            "32/32 [==============================] - 0s 2ms/step - loss: 0.6541 - mae: 0.5097 - val_loss: 9.8366 - val_mae: 1.9293\n",
            "Epoch 459/500\n",
            "32/32 [==============================] - 0s 2ms/step - loss: 0.7084 - mae: 0.5247 - val_loss: 8.5228 - val_mae: 1.8653\n",
            "Epoch 460/500\n",
            "32/32 [==============================] - 0s 2ms/step - loss: 0.5938 - mae: 0.5172 - val_loss: 8.8552 - val_mae: 1.8190\n",
            "Epoch 461/500\n",
            "32/32 [==============================] - 0s 2ms/step - loss: 0.7093 - mae: 0.5293 - val_loss: 9.5992 - val_mae: 1.9140\n",
            "Epoch 462/500\n",
            "32/32 [==============================] - 0s 2ms/step - loss: 0.6363 - mae: 0.4752 - val_loss: 8.8816 - val_mae: 1.7937\n",
            "Epoch 463/500\n",
            "32/32 [==============================] - 0s 2ms/step - loss: 0.6423 - mae: 0.5081 - val_loss: 8.4966 - val_mae: 1.7944\n",
            "Epoch 464/500\n",
            "32/32 [==============================] - 0s 2ms/step - loss: 0.6511 - mae: 0.4990 - val_loss: 9.0569 - val_mae: 1.8412\n",
            "Epoch 465/500\n",
            "32/32 [==============================] - 0s 2ms/step - loss: 0.6332 - mae: 0.5273 - val_loss: 9.0497 - val_mae: 1.9034\n",
            "Epoch 466/500\n",
            "32/32 [==============================] - 0s 3ms/step - loss: 0.7120 - mae: 0.5328 - val_loss: 9.3478 - val_mae: 1.9150\n",
            "Epoch 467/500\n",
            "32/32 [==============================] - 0s 3ms/step - loss: 0.6303 - mae: 0.4955 - val_loss: 8.3103 - val_mae: 1.8085\n",
            "Epoch 468/500\n",
            "32/32 [==============================] - 0s 3ms/step - loss: 0.6037 - mae: 0.4983 - val_loss: 10.0971 - val_mae: 1.9565\n",
            "Epoch 469/500\n",
            "32/32 [==============================] - 0s 2ms/step - loss: 0.6790 - mae: 0.5084 - val_loss: 9.2922 - val_mae: 1.9303\n",
            "Epoch 470/500\n",
            "32/32 [==============================] - 0s 3ms/step - loss: 0.6707 - mae: 0.5007 - val_loss: 8.9108 - val_mae: 1.8050\n",
            "Epoch 471/500\n",
            "32/32 [==============================] - 0s 2ms/step - loss: 0.6887 - mae: 0.4923 - val_loss: 9.2498 - val_mae: 1.9089\n",
            "Epoch 472/500\n",
            "32/32 [==============================] - 0s 2ms/step - loss: 0.6000 - mae: 0.5200 - val_loss: 10.3601 - val_mae: 1.9617\n",
            "Epoch 473/500\n",
            "32/32 [==============================] - 0s 2ms/step - loss: 0.6027 - mae: 0.5070 - val_loss: 9.1706 - val_mae: 1.8694\n",
            "Epoch 474/500\n",
            "32/32 [==============================] - 0s 2ms/step - loss: 0.5787 - mae: 0.5103 - val_loss: 8.4433 - val_mae: 1.7877\n",
            "Epoch 475/500\n",
            "32/32 [==============================] - 0s 3ms/step - loss: 0.7210 - mae: 0.5171 - val_loss: 8.0436 - val_mae: 1.8041\n",
            "Epoch 476/500\n",
            "32/32 [==============================] - 0s 3ms/step - loss: 0.5872 - mae: 0.4795 - val_loss: 8.4046 - val_mae: 1.8129\n",
            "Epoch 477/500\n",
            "32/32 [==============================] - 0s 2ms/step - loss: 0.6718 - mae: 0.5176 - val_loss: 8.9192 - val_mae: 1.8731\n",
            "Epoch 478/500\n",
            "32/32 [==============================] - 0s 2ms/step - loss: 0.6305 - mae: 0.4933 - val_loss: 8.7471 - val_mae: 1.8521\n",
            "Epoch 479/500\n",
            "32/32 [==============================] - 0s 2ms/step - loss: 0.6273 - mae: 0.5143 - val_loss: 8.8094 - val_mae: 1.8480\n",
            "Epoch 480/500\n",
            "32/32 [==============================] - 0s 3ms/step - loss: 0.6303 - mae: 0.5325 - val_loss: 8.9761 - val_mae: 1.8380\n",
            "Epoch 481/500\n",
            "32/32 [==============================] - 0s 2ms/step - loss: 0.7761 - mae: 0.4673 - val_loss: 13.2861 - val_mae: 2.3383\n",
            "Epoch 482/500\n",
            "32/32 [==============================] - 0s 2ms/step - loss: 0.7482 - mae: 0.5344 - val_loss: 9.1770 - val_mae: 1.8818\n",
            "Epoch 483/500\n",
            "32/32 [==============================] - 0s 2ms/step - loss: 0.5794 - mae: 0.4680 - val_loss: 9.7770 - val_mae: 1.9470\n",
            "Epoch 484/500\n",
            "32/32 [==============================] - 0s 3ms/step - loss: 0.7285 - mae: 0.5586 - val_loss: 9.6871 - val_mae: 1.9234\n",
            "Epoch 485/500\n",
            "32/32 [==============================] - 0s 3ms/step - loss: 0.5458 - mae: 0.4779 - val_loss: 8.7457 - val_mae: 1.9124\n",
            "Epoch 486/500\n",
            "32/32 [==============================] - 0s 2ms/step - loss: 0.6639 - mae: 0.5165 - val_loss: 9.4924 - val_mae: 1.8731\n",
            "Epoch 487/500\n",
            "32/32 [==============================] - 0s 2ms/step - loss: 0.7056 - mae: 0.5302 - val_loss: 10.2237 - val_mae: 2.0671\n",
            "Epoch 488/500\n",
            "32/32 [==============================] - 0s 3ms/step - loss: 0.6110 - mae: 0.5137 - val_loss: 8.8119 - val_mae: 1.8682\n",
            "Epoch 489/500\n",
            "32/32 [==============================] - 0s 3ms/step - loss: 0.5819 - mae: 0.4970 - val_loss: 8.8935 - val_mae: 1.8892\n",
            "Epoch 490/500\n",
            "32/32 [==============================] - 0s 2ms/step - loss: 0.6021 - mae: 0.5195 - val_loss: 9.3450 - val_mae: 1.8819\n",
            "Epoch 491/500\n",
            "32/32 [==============================] - 0s 2ms/step - loss: 0.6425 - mae: 0.5032 - val_loss: 9.2226 - val_mae: 1.8858\n",
            "Epoch 492/500\n",
            "32/32 [==============================] - 0s 3ms/step - loss: 0.6543 - mae: 0.5322 - val_loss: 9.5294 - val_mae: 1.8922\n",
            "Epoch 493/500\n",
            "32/32 [==============================] - 0s 2ms/step - loss: 0.6840 - mae: 0.5132 - val_loss: 9.3808 - val_mae: 1.9706\n",
            "Epoch 494/500\n",
            "32/32 [==============================] - 0s 3ms/step - loss: 0.6514 - mae: 0.5015 - val_loss: 8.4642 - val_mae: 1.8457\n",
            "Epoch 495/500\n",
            "32/32 [==============================] - 0s 2ms/step - loss: 0.7176 - mae: 0.5033 - val_loss: 8.7940 - val_mae: 1.8917\n",
            "Epoch 496/500\n",
            "32/32 [==============================] - 0s 3ms/step - loss: 0.6309 - mae: 0.5228 - val_loss: 7.8211 - val_mae: 1.7722\n",
            "Epoch 497/500\n",
            "32/32 [==============================] - 0s 3ms/step - loss: 0.6876 - mae: 0.5198 - val_loss: 8.4857 - val_mae: 1.8651\n",
            "Epoch 498/500\n",
            "32/32 [==============================] - 0s 2ms/step - loss: 0.5439 - mae: 0.4748 - val_loss: 9.7473 - val_mae: 1.9549\n",
            "Epoch 499/500\n",
            "32/32 [==============================] - 0s 2ms/step - loss: 0.6011 - mae: 0.5137 - val_loss: 9.2285 - val_mae: 1.8763\n",
            "Epoch 500/500\n",
            "32/32 [==============================] - 0s 3ms/step - loss: 1.1025 - mae: 0.5320 - val_loss: 9.1332 - val_mae: 1.8989\n"
          ],
          "name": "stdout"
        }
      ]
    },
    {
      "cell_type": "code",
      "metadata": {
        "id": "Bvyyr0Pd5Z55",
        "colab_type": "code",
        "outputId": "66e0db11-275c-40b7-8f01-30620de0084d",
        "colab": {
          "base_uri": "https://localhost:8080/",
          "height": 34
        }
      },
      "source": [
        "history_dict = history_auto.history\n",
        "history_dict.keys()"
      ],
      "execution_count": 0,
      "outputs": [
        {
          "output_type": "execute_result",
          "data": {
            "text/plain": [
              "dict_keys(['loss', 'mae', 'val_loss', 'val_mae'])"
            ]
          },
          "metadata": {
            "tags": []
          },
          "execution_count": 72
        }
      ]
    },
    {
      "cell_type": "code",
      "metadata": {
        "id": "mPw39XgT5Gan",
        "colab_type": "code",
        "outputId": "24fbc184-7d6f-4b70-e73e-844e0c2e1ffe",
        "colab": {
          "base_uri": "https://localhost:8080/",
          "height": 295
        }
      },
      "source": [
        "import matplotlib.pyplot as plt\n",
        "\n",
        "mae = history_auto.history['mae']\n",
        "val_mae = history_auto.history['val_mae']\n",
        "loss = history_auto.history['loss']\n",
        "val_loss = history_auto.history['val_loss']\n",
        "\n",
        "epochs = range(1, len(mae) + 1)\n",
        "\n",
        "\n",
        "plt.plot(epochs, loss, 'r', label='Training loss')\n",
        "plt.title('Training loss')\n",
        "plt.xlabel('Epochs')\n",
        "plt.ylabel('Loss')\n",
        "plt.legend()\n",
        "\n",
        "plt.show()"
      ],
      "execution_count": 0,
      "outputs": [
        {
          "output_type": "display_data",
          "data": {
            "image/png": "[encoded data removed]",
            "text/plain": [
              "<Figure size 432x288 with 1 Axes>"
            ]
          },
          "metadata": {
            "tags": [],
            "needs_background": "light"
          }
        }
      ]
    },
    {
      "cell_type": "code",
      "metadata": {
        "id": "p7vTFub8_Gnt",
        "colab_type": "code",
        "outputId": "01658c03-78cd-4faf-9267-2bdaabc07d0a",
        "colab": {
          "base_uri": "https://localhost:8080/",
          "height": 295
        }
      },
      "source": [
        "plt.plot(epochs, val_loss, 'b', label='Validation loss')\n",
        "plt.title('Validation loss')\n",
        "plt.xlabel('Epochs')\n",
        "plt.ylabel('Loss')\n",
        "plt.legend()\n",
        "\n",
        "plt.show()"
      ],
      "execution_count": 0,
      "outputs": [
        {
          "output_type": "display_data",
          "data": {
            "image/png": "[encoded data removed]",
            "text/plain": [
              "<Figure size 432x288 with 1 Axes>"
            ]
          },
          "metadata": {
            "tags": [],
            "needs_background": "light"
          }
        }
      ]
    },
    {
      "cell_type": "code",
      "metadata": {
        "id": "gWXHayI96s5u",
        "colab_type": "code",
        "outputId": "8e2617d2-d171-4392-893e-d57e2946a4d4",
        "colab": {
          "base_uri": "https://localhost:8080/",
          "height": 295
        }
      },
      "source": [
        "plt.clf()   # clear figure\n",
        "mae_values = history_dict['mae']\n",
        "val_mae_values = history_dict['val_mae']\n",
        "\n",
        "plt.plot(epochs, mae, 'r', label='Training mae')\n",
        "plt.title('Training MAE')\n",
        "plt.xlabel('Epochs')\n",
        "plt.ylabel('MAE')\n",
        "plt.legend()\n",
        "\n",
        "plt.show()"
      ],
      "execution_count": 0,
      "outputs": [
        {
          "output_type": "display_data",
          "data": {
            "image/png": "[encoded data removed]",
            "text/plain": [
              "<Figure size 432x288 with 1 Axes>"
            ]
          },
          "metadata": {
            "tags": [],
            "needs_background": "light"
          }
        }
      ]
    },
    {
      "cell_type": "code",
      "metadata": {
        "id": "rLJjmQdO_iGR",
        "colab_type": "code",
        "outputId": "56eb3116-7db9-4cfd-bf19-bdf98d19facb",
        "colab": {
          "base_uri": "https://localhost:8080/",
          "height": 295
        }
      },
      "source": [
        "plt.plot(epochs, val_mae, 'b', label='Validation mae')\n",
        "plt.title('Validation MAE')\n",
        "plt.xlabel('Epochs')\n",
        "plt.ylabel('MAE')\n",
        "plt.legend()\n",
        "\n",
        "plt.show()"
      ],
      "execution_count": 0,
      "outputs": [
        {
          "output_type": "display_data",
          "data": {
            "image/png": "[encoded data removed]",
            "text/plain": [
              "<Figure size 432x288 with 1 Axes>"
            ]
          },
          "metadata": {
            "tags": [],
            "needs_background": "light"
          }
        }
      ]
    },
    {
      "cell_type": "markdown",
      "metadata": {
        "id": "SrnXZrjtUr0H",
        "colab_type": "text"
      },
      "source": [
        "# Part 6\n",
        "Select the best number of epochs and the hyperparameter as check the performance of the learned model on the testing data."
      ]
    },
    {
      "cell_type": "code",
      "metadata": {
        "id": "083XmEPmU9Wh",
        "colab_type": "code",
        "outputId": "4a4ae4f6-bfab-4a74-e587-402c972bc4c3",
        "colab": {
          "base_uri": "https://localhost:8080/",
          "height": 34
        }
      },
      "source": [
        "model_auto.fit(X_train, y_train,\n",
        "          epochs=20, batch_size=8, verbose=0)\n",
        "test_mse_score, test_mae_score = model_auto.evaluate(X_test, y_test)"
      ],
      "execution_count": 0,
      "outputs": [
        {
          "output_type": "stream",
          "text": [
            "3/3 [==============================] - 0s 2ms/step - loss: 15.9065 - mae: 2.7683\n"
          ],
          "name": "stdout"
        }
      ]
    },
    {
      "cell_type": "code",
      "metadata": {
        "id": "1vd8C-jdER_a",
        "colab_type": "code",
        "outputId": "c71f4fc5-07af-466d-cd0d-63f0a77314ce",
        "colab": {
          "base_uri": "https://localhost:8080/",
          "height": 34
        }
      },
      "source": [
        "test_mae_score"
      ],
      "execution_count": 0,
      "outputs": [
        {
          "output_type": "execute_result",
          "data": {
            "text/plain": [
              "2.7682764530181885"
            ]
          },
          "metadata": {
            "tags": []
          },
          "execution_count": 78
        }
      ]
    },
    {
      "cell_type": "code",
      "metadata": {
        "id": "Rh7CgAT5CsyG",
        "colab_type": "code",
        "outputId": "66391235-3c39-4162-ae8c-0a7cd523f83e",
        "colab": {
          "base_uri": "https://localhost:8080/",
          "height": 34
        }
      },
      "source": [
        "model_auto.fit(X_train, y_train,\n",
        "          epochs=10, batch_size=8, verbose=0)\n",
        "test_mse_score, test_mae_score = model_auto.evaluate(X_test, y_test)"
      ],
      "execution_count": 0,
      "outputs": [
        {
          "output_type": "stream",
          "text": [
            "3/3 [==============================] - 0s 2ms/step - loss: 14.3439 - mae: 2.7101\n"
          ],
          "name": "stdout"
        }
      ]
    },
    {
      "cell_type": "code",
      "metadata": {
        "id": "SjUtAK_1EStB",
        "colab_type": "code",
        "outputId": "f88394df-c8f8-4a5a-9d7f-51a74f281afc",
        "colab": {
          "base_uri": "https://localhost:8080/",
          "height": 34
        }
      },
      "source": [
        "test_mae_score"
      ],
      "execution_count": 0,
      "outputs": [
        {
          "output_type": "execute_result",
          "data": {
            "text/plain": [
              "2.7101058959960938"
            ]
          },
          "metadata": {
            "tags": []
          },
          "execution_count": 80
        }
      ]
    }
  ]
}